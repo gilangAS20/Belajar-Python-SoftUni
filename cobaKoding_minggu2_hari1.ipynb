{
  "cells": [
    {
      "cell_type": "markdown",
      "metadata": {
        "id": "OOmPqQKYJPPY"
      },
      "source": [
        "# Percobaan Koding saat Meet minggu 2 hari ke 1"
      ]
    },
    {
      "cell_type": "code",
      "execution_count": null,
      "metadata": {
        "colab": {
          "base_uri": "https://localhost:8080/"
        },
        "id": "Nuaan1O7IXB7",
        "outputId": "9470f58a-fc25-4e1b-9575-36cfd1c22993"
      },
      "outputs": [
        {
          "name": "stdout",
          "output_type": "stream",
          "text": [
            "ab\n"
          ]
        }
      ],
      "source": [
        "print(\"a\" + \"b\")"
      ]
    },
    {
      "cell_type": "code",
      "execution_count": null,
      "metadata": {
        "colab": {
          "base_uri": "https://localhost:8080/"
        },
        "id": "ZSiNu6h5I7Qj",
        "outputId": "da15e1f0-ed14-4621-8c04-ac3873b83340"
      },
      "outputs": [
        {
          "data": {
            "text/plain": [
              "str"
            ]
          },
          "execution_count": 2,
          "metadata": {},
          "output_type": "execute_result"
        }
      ],
      "source": [
        "number = (\"1000\")\n",
        "type(number)"
      ]
    },
    {
      "cell_type": "markdown",
      "metadata": {
        "id": "vyPZjuiOJi11"
      },
      "source": [
        "Operasi menggabungkan dua text (string) disebut \"concatenation\""
      ]
    },
    {
      "cell_type": "code",
      "execution_count": null,
      "metadata": {
        "colab": {
          "base_uri": "https://localhost:8080/"
        },
        "id": "5w-I8wSYJp2z",
        "outputId": "49acf9b2-8475-4d1c-8edf-399ff67d0812"
      },
      "outputs": [
        {
          "name": "stdout",
          "output_type": "stream",
          "text": [
            "1\n"
          ]
        }
      ],
      "source": [
        "print(10%3)"
      ]
    },
    {
      "cell_type": "code",
      "execution_count": null,
      "metadata": {
        "colab": {
          "base_uri": "https://localhost:8080/"
        },
        "id": "DGSlVVrXJ8lm",
        "outputId": "8944f0af-1c20-47f0-f047-b52110db599a"
      },
      "outputs": [
        {
          "name": "stdout",
          "output_type": "stream",
          "text": [
            "2.5\n"
          ]
        }
      ],
      "source": [
        "a=5\n",
        "b=2\n",
        "result = a/b\n",
        "print(result)"
      ]
    },
    {
      "cell_type": "code",
      "execution_count": null,
      "metadata": {
        "colab": {
          "base_uri": "https://localhost:8080/",
          "height": 165
        },
        "id": "iFCfUIsgKOsD",
        "outputId": "67514b4d-5126-4d2e-d682-5b16fb7b3c2e"
      },
      "outputs": [
        {
          "ename": "TypeError",
          "evalue": "ignored",
          "output_type": "error",
          "traceback": [
            "\u001b[0;31m---------------------------------------------------------------------------\u001b[0m",
            "\u001b[0;31mTypeError\u001b[0m                                 Traceback (most recent call last)",
            "\u001b[0;32m<ipython-input-5-dbd941b5e723>\u001b[0m in \u001b[0;36m<module>\u001b[0;34m\u001b[0m\n\u001b[0;32m----> 1\u001b[0;31m \u001b[0mprint\u001b[0m\u001b[0;34m(\u001b[0m\u001b[0;36m1\u001b[0m\u001b[0;34m+\u001b[0m\u001b[0;36m1\u001b[0m\u001b[0;34m+\u001b[0m\u001b[0;34m\"4\"\u001b[0m\u001b[0;34m+\u001b[0m\u001b[0;36m2\u001b[0m\u001b[0;34m+\u001b[0m\u001b[0;36m1\u001b[0m\u001b[0;34m)\u001b[0m\u001b[0;34m\u001b[0m\u001b[0;34m\u001b[0m\u001b[0m\n\u001b[0m",
            "\u001b[0;31mTypeError\u001b[0m: unsupported operand type(s) for +: 'int' and 'str'"
          ]
        }
      ],
      "source": [
        "print(1+1+\"4\"+2+1)"
      ]
    },
    {
      "cell_type": "markdown",
      "metadata": {
        "id": "JhvqzQ9zK1qx"
      },
      "source": [
        "koding di atas error karena tidak memungkinkan menambahkan angka(int) dengan string(\" \") \\\n",
        "solusinya adalah konversi menjadi int semua atau string semua, seperti kode di bawah"
      ]
    },
    {
      "cell_type": "code",
      "execution_count": null,
      "metadata": {
        "colab": {
          "base_uri": "https://localhost:8080/"
        },
        "id": "Y8eqYfJoKY38",
        "outputId": "07d55e50-23a0-4799-c736-2a46daa3c020"
      },
      "outputs": [
        {
          "name": "stdout",
          "output_type": "stream",
          "text": [
            "11421\n",
            "9\n"
          ]
        }
      ],
      "source": [
        "print(\"1\"+\"1\"+\"4\"+\"2\"+\"1\")\n",
        "print(1+1+4+2+1)"
      ]
    },
    {
      "cell_type": "markdown",
      "metadata": {
        "id": "mLu71D3sLmMF"
      },
      "source": [
        "## 1. Logical Expression"
      ]
    },
    {
      "cell_type": "markdown",
      "metadata": {
        "id": "feReLN3ZLt21"
      },
      "source": [
        "### a. Comparison Operator\n",
        "Equals : \"==\" \\\n",
        "Not equals : \"!=\" \\\n",
        "Greater than : \">\" \\\n",
        "Greater then or equals : \">=\" \\\n",
        "Less than : \"<\" \\\n",
        "Less than or equals : \"<=\" \\\n",
        "\\\n",
        "Digunakan pada numbers, symbols, dan comparable types yang lain"
      ]
    },
    {
      "cell_type": "markdown",
      "metadata": {
        "id": "vVmYsUe_MyT0"
      },
      "source": [
        "#### Comparing Values \n",
        "Menghasilkan output berupa \"True\" dan \"False\""
      ]
    },
    {
      "cell_type": "code",
      "execution_count": null,
      "metadata": {
        "colab": {
          "base_uri": "https://localhost:8080/"
        },
        "id": "wq-8nDb5Kcv2",
        "outputId": "77301465-113a-48d2-fa2f-c7228a1f958a"
      },
      "outputs": [
        {
          "name": "stdout",
          "output_type": "stream",
          "text": [
            "apakah a lebih kecil dari b? True\n",
            "apakah a lebih besar dari b? False\n",
            "apakah a lebih kecil dari 0? False\n",
            "apakah a lebih kecil sama dengan 5? True\n",
            "apakah a lebih kecil dari a? False\n",
            "apakah b sama dengan 2x nya a? True\n"
          ]
        }
      ],
      "source": [
        "a = 5\n",
        "b = 10\n",
        "print(\"apakah a lebih kecil dari b?\", a<b)\n",
        "print(\"apakah a lebih besar dari b?\", a>b)\n",
        "print(\"apakah a lebih kecil dari 0?\", a < 0)\n",
        "print(\"apakah a lebih kecil sama dengan 5?\", a <=5)\n",
        "print(\"apakah a lebih kecil dari a?\", a < a)\n",
        "print(\"apakah b sama dengan 2x nya a?\", b == 2*a)"
      ]
    },
    {
      "cell_type": "markdown",
      "metadata": {
        "id": "UNjiqqLwOF_C"
      },
      "source": [
        "#### Compare text menggunakan operator (==)"
      ]
    },
    {
      "cell_type": "code",
      "execution_count": null,
      "metadata": {
        "colab": {
          "base_uri": "https://localhost:8080/"
        },
        "id": "jhTbPST5OEQj",
        "outputId": "47a3f181-faa1-4437-9acc-6370ec2ca644"
      },
      "outputs": [
        {
          "name": "stdout",
          "output_type": "stream",
          "text": [
            "True\n"
          ]
        }
      ],
      "source": [
        "a = \"Gilang\"\n",
        "b = a\n",
        "print(a == b)"
      ]
    },
    {
      "cell_type": "code",
      "execution_count": null,
      "metadata": {
        "colab": {
          "base_uri": "https://localhost:8080/"
        },
        "id": "ifwTG3r8OPjj",
        "outputId": "f5587851-cf00-4f13-acf6-2b5e17c5ec51"
      },
      "outputs": [
        {
          "name": "stdout",
          "output_type": "stream",
          "text": [
            "geo\n",
            "geo\n",
            "True\n"
          ]
        }
      ],
      "source": [
        "a = input()\n",
        "b = input()\n",
        "print(a==b)"
      ]
    },
    {
      "cell_type": "markdown",
      "metadata": {
        "id": "vMStC_BMOu1o"
      },
      "source": [
        "#### Bool Variabel"
      ]
    },
    {
      "cell_type": "markdown",
      "metadata": {
        "id": "gtXa4BzzOxy-"
      },
      "source": [
        "Kita bisa memasukkan nilai \"True\" dan \"False\" pada sebuah variabel, contoh dibawah:"
      ]
    },
    {
      "cell_type": "code",
      "execution_count": null,
      "metadata": {
        "colab": {
          "base_uri": "https://localhost:8080/"
        },
        "id": "zNAHIIZJOw0E",
        "outputId": "553b17d3-9c65-453c-ff2a-8bd065bca218"
      },
      "outputs": [
        {
          "name": "stdout",
          "output_type": "stream",
          "text": [
            "True\n",
            "0\n",
            "False\n"
          ]
        }
      ],
      "source": [
        "is_valid = True\n",
        "is_even = 4 % 2\n",
        "is_same = 4 == 2\n",
        "\n",
        "print(is_valid)\n",
        "print(is_even)\n",
        "print(is_same)"
      ]
    },
    {
      "cell_type": "code",
      "execution_count": null,
      "metadata": {
        "colab": {
          "base_uri": "https://localhost:8080/"
        },
        "id": "_HYSpmvTPQNH",
        "outputId": "1f7ec00f-8826-4629-f9ea-16489ffb59c4"
      },
      "outputs": [
        {
          "name": "stdout",
          "output_type": "stream",
          "text": [
            "True\n",
            "False\n"
          ]
        }
      ],
      "source": [
        "a = 5\n",
        "is_positive = a > 0\n",
        "print(is_positive)\n",
        "\n",
        "b = -10\n",
        "is_positive = b > 0\n",
        "print(is_positive)"
      ]
    },
    {
      "cell_type": "markdown",
      "metadata": {
        "id": "PvbjmHOyP9WS"
      },
      "source": [
        "#### Simple Conditions\n",
        "Kita sering melakukan cek dan melakukan actions tergantung dari hasil pengecekan \\\n",
        "Hasilnya akan \"True\" atau \"False\""
      ]
    },
    {
      "cell_type": "markdown",
      "metadata": {
        "id": "oGAs0IANQSQU"
      },
      "source": [
        "Contoh: \\\n",
        "1. Tulis program yang membaca inputan berupa nilai, jika hasilnya lebih dari 5 maka print \"Excellent\""
      ]
    },
    {
      "cell_type": "markdown",
      "metadata": {
        "id": "MhZXyPnORmVh"
      },
      "source": [
        "Single if:"
      ]
    },
    {
      "cell_type": "code",
      "execution_count": null,
      "metadata": {
        "colab": {
          "base_uri": "https://localhost:8080/"
        },
        "id": "jgEk7VemPXaT",
        "outputId": "bdc6b2ae-5926-440f-eaa7-e51598d303d1"
      },
      "outputs": [
        {
          "name": "stdout",
          "output_type": "stream",
          "text": [
            "9\n",
            "Excellent\n"
          ]
        }
      ],
      "source": [
        "number = int(input())\n",
        "if number > 5:\n",
        "  print(\"Excellent\")\n",
        "# jika nilai inputan lebih dari 5 maka akan tampil tulisan \"Excellent\",\n",
        "# tapi jika tidak maka tidak akan menampilkan apa-apa (no output)\n"
      ]
    },
    {
      "cell_type": "markdown",
      "metadata": {
        "id": "cyETBIx7RpLd"
      },
      "source": [
        "If-Else:\\\n",
        "program ini akan memunculkan 2 output, dengan kondisinya berbeda, contoh di bawah"
      ]
    },
    {
      "cell_type": "code",
      "execution_count": null,
      "metadata": {
        "colab": {
          "base_uri": "https://localhost:8080/"
        },
        "id": "B9YINXPgQiUA",
        "outputId": "5d3cd89a-d366-4fa0-d5e6-0394fe3eff70"
      },
      "outputs": [
        {
          "name": "stdout",
          "output_type": "stream",
          "text": [
            "Benar\n"
          ]
        }
      ],
      "source": [
        "a = 11\n",
        "\n",
        "if a > 10:\n",
        "  print(\"Benar\")\n",
        "else:\n",
        "  print(\"Salah\")"
      ]
    },
    {
      "cell_type": "markdown",
      "metadata": {
        "id": "Xe7LW3nDSsW8"
      },
      "source": [
        "contoh block kode (tabulasi atau spasi yang menjadikannya menyatu)"
      ]
    },
    {
      "cell_type": "code",
      "execution_count": null,
      "metadata": {
        "colab": {
          "base_uri": "https://localhost:8080/"
        },
        "id": "C_EJsbHfR9OW",
        "outputId": "765ee905-74ef-4223-c021-036d9b9d07d6"
      },
      "outputs": [
        {
          "name": "stdout",
          "output_type": "stream",
          "text": [
            "ini adalah warna merah\n",
            "ahay\n"
          ]
        }
      ],
      "source": [
        "color = \"merah\"\n",
        "\n",
        "if color == \"merah\":\n",
        "  print(\"ini adalah warna merah\")\n",
        "  print(\"ahay\")\n",
        "else:\n",
        "  print(\"ini bukan warna merah\")\n",
        "  print(\"ini adalah\", color)"
      ]
    },
    {
      "cell_type": "code",
      "execution_count": null,
      "metadata": {
        "colab": {
          "base_uri": "https://localhost:8080/"
        },
        "id": "3lRcukGzSVSQ",
        "outputId": "7b6bd94f-56f8-4778-8186-7fea66c492cc"
      },
      "outputs": [
        {
          "name": "stdout",
          "output_type": "stream",
          "text": [
            "ini adalah warna merah\n",
            "ahay\n",
            "terima kasih bouz\n"
          ]
        }
      ],
      "source": [
        "color = \"merah\"\n",
        "\n",
        "if color == \"merah\":\n",
        "  print(\"ini adalah warna merah\")\n",
        "  print(\"ahay\")\n",
        "else:\n",
        "  print(\"ini bukan warna merah\")\n",
        "  print(\"ini adalah\", color)\n",
        "\n",
        "print(\"terima kasih bouz\") # print di samping akan tetap dijalankan setelah block diatas dijalankan\n"
      ]
    },
    {
      "cell_type": "code",
      "execution_count": null,
      "metadata": {
        "colab": {
          "base_uri": "https://localhost:8080/"
        },
        "id": "UI_lOt01S19H",
        "outputId": "a376e3e5-21c0-43a1-91c2-af9cbfce425e"
      },
      "outputs": [
        {
          "name": "stdout",
          "output_type": "stream",
          "text": [
            "1\n",
            "1\n",
            "Hasil pertama:\n",
            "slebew\n",
            "Hasil kedua:\n",
            "1\n",
            "terima kasih\n"
          ]
        }
      ],
      "source": [
        "numberOne = int(input())\n",
        "numberTwo = int(input())\n",
        "\n",
        "print(\"Hasil pertama:\")\n",
        "if numberOne > numberTwo:\n",
        "  print(numberOne)\n",
        "if numberOne < numberTwo:\n",
        "  print(numberTwo)\n",
        "else:\n",
        "  print(\"sama bos\")\n",
        "\n",
        "# atau seperti di bawah juga oke\n",
        "\n",
        "print(\"Hasil kedua:\")\n",
        "if numberOne > numberTwo:\n",
        "  print(numberOne)\n",
        "else:\n",
        "  print(numberTwo)\n",
        "\n",
        "print(\"terima kasih\")\n"
      ]
    },
    {
      "cell_type": "markdown",
      "metadata": {
        "id": "NWQbKOFS3kC6"
      },
      "source": [
        "#### Even and Odd (genap dan ganjil)"
      ]
    },
    {
      "cell_type": "code",
      "execution_count": 6,
      "metadata": {
        "colab": {
          "base_uri": "https://localhost:8080/"
        },
        "id": "Sb0AiYFbTc9S",
        "outputId": "c2c28d05-dc56-418a-b234-db324a3b33dd"
      },
      "outputs": [
        {
          "name": "stdout",
          "output_type": "stream",
          "text": [
            "1\n",
            "Odd\n",
            "Odd\n"
          ]
        }
      ],
      "source": [
        "number = int(input())\n",
        "\n",
        "if number % 2 == 0:\n",
        "  print(\"Even\")\n",
        "if number % 2 != 0:\n",
        "  print(\"Odd\")\n",
        "\n",
        "# atau seperti ini lebih mudah\n",
        "if number % 2 == 0:\n",
        "  print(\"Even\")\n",
        "else:\n",
        "  print(\"Odd\")"
      ]
    },
    {
      "cell_type": "markdown",
      "metadata": {
        "id": "QgT5naI54R5W"
      },
      "source": [
        "## 2. Rounding and Formatting\n",
        "Dalam program kita dapat membulatkan angka pecahan\n"
      ]
    },
    {
      "cell_type": "markdown",
      "metadata": {
        "id": "pzzpiL8J43Og"
      },
      "source": [
        "#### up (ceil)\n",
        "berfungsi untuk membulatkan ke atas"
      ]
    },
    {
      "cell_type": "code",
      "execution_count": 9,
      "metadata": {
        "id": "Gp6Vl5Lq5Mzk"
      },
      "outputs": [],
      "source": [
        "import math"
      ]
    },
    {
      "cell_type": "code",
      "execution_count": 10,
      "metadata": {
        "colab": {
          "base_uri": "https://localhost:8080/"
        },
        "id": "fwU9i1YL3xLO",
        "outputId": "97a8cab7-bcec-43c9-f39e-ebecdea818d0"
      },
      "outputs": [
        {
          "name": "stdout",
          "output_type": "stream",
          "text": [
            "Masukkan nilai float: 1.2\n",
            "Hasil pembulatan ke atas:  2\n"
          ]
        }
      ],
      "source": [
        "pembulatan = float(input(\"Masukkan nilai float: \"))\n",
        "print(\"Hasil pembulatan ke atas: \", math.ceil(pembulatan))"
      ]
    },
    {
      "cell_type": "markdown",
      "metadata": {
        "id": "itp0cQc25Qsq"
      },
      "source": [
        "#### down (floor)\n",
        "berfungsi untk membulatkan ke bawah"
      ]
    },
    {
      "cell_type": "code",
      "execution_count": 11,
      "metadata": {
        "colab": {
          "base_uri": "https://localhost:8080/"
        },
        "id": "wkARnG_r5EYl",
        "outputId": "dd8d8052-1310-40ac-b15b-e25d2672bf7e"
      },
      "outputs": [
        {
          "name": "stdout",
          "output_type": "stream",
          "text": [
            "Masukkan nilai float: 1.9\n",
            "Hasil pembulatan ke bawah:  1\n"
          ]
        }
      ],
      "source": [
        "pembulatan = float(input(\"Masukkan nilai float: \"))\n",
        "print(\"Hasil pembulatan ke bawah: \", math.floor(pembulatan))"
      ]
    },
    {
      "cell_type": "markdown",
      "metadata": {
        "id": "PIa1xs0h5k_r"
      },
      "source": [
        "#### Fungsi Absolute\n",
        "berfungsi untuk membuat nilai menjadi positif meskipun inputan / nilainya negatif"
      ]
    },
    {
      "cell_type": "code",
      "execution_count": 13,
      "metadata": {
        "colab": {
          "base_uri": "https://localhost:8080/"
        },
        "id": "3zUxAMHx5eJB",
        "outputId": "25aa22a4-89c3-4368-a5f3-53c22a78465d"
      },
      "outputs": [
        {
          "name": "stdout",
          "output_type": "stream",
          "text": [
            "nilai negatif: -50\n",
            "hasil ketika dilakukan absolute:  50\n",
            "nilai positig: 70\n",
            "hasil ketika dilakukan absolute:  70\n"
          ]
        }
      ],
      "source": [
        "negatif = -50\n",
        "print(\"nilai negatif:\", negatif)\n",
        "absolute = abs(negatif)\n",
        "print(\"hasil ketika dilakukan absolute: \", absolute)\n",
        "\n",
        "positif = 70\n",
        "print(\"nilai positif:\", positif)\n",
        "absolute = abs(positif)\n",
        "print(\"hasil ketika dilakukan absolute: \", absolute)"
      ]
    },
    {
      "cell_type": "markdown",
      "metadata": {
        "id": "q3QXAeVn6oyA"
      },
      "source": [
        "#### Rounding (pembulatan) ke 2 decimal\n",
        "menggunakan rounding akan membulatkan angka ke n decimal (misal 2 decimal) ke atas atau ke bawah \\\n",
        "\\\n",
        "Jika nilai yang dibulatkan di <= 5 maka dibulatkan ke bawah, jika > 5 akan dibulatkan ke atas"
      ]
    },
    {
      "cell_type": "code",
      "execution_count": 19,
      "metadata": {
        "colab": {
          "base_uri": "https://localhost:8080/"
        },
        "id": "tFR2aRVM55ro",
        "outputId": "25b93893-b63e-4e8a-dae8-bb814ae0d190"
      },
      "outputs": [
        {
          "name": "stdout",
          "output_type": "stream",
          "text": [
            "3.13\n"
          ]
        }
      ],
      "source": [
        "nilai = 3.134\n",
        "rounded = round(nilai, 2)\n",
        "print(rounded)"
      ]
    },
    {
      "cell_type": "code",
      "execution_count": 22,
      "metadata": {
        "colab": {
          "base_uri": "https://localhost:8080/"
        },
        "id": "WQ8WUtzF630R",
        "outputId": "ea6deffb-823f-4a2d-88b5-506a7ea903b3"
      },
      "outputs": [
        {
          "name": "stdout",
          "output_type": "stream",
          "text": [
            "3.14\n"
          ]
        }
      ],
      "source": [
        "nilai = 3.136\n",
        "rounded = round(nilai, 2)\n",
        "print(rounded)"
      ]
    },
    {
      "cell_type": "code",
      "execution_count": 23,
      "metadata": {
        "colab": {
          "base_uri": "https://localhost:8080/"
        },
        "id": "FnPJb3E67cBc",
        "outputId": "8a3084d9-568f-4bcf-e120-3f4374b175fb"
      },
      "outputs": [
        {
          "name": "stdout",
          "output_type": "stream",
          "text": [
            "3.1\n"
          ]
        }
      ],
      "source": [
        "nilai = 3.136\n",
        "rounded = round(nilai, 1)\n",
        "print(rounded)"
      ]
    },
    {
      "cell_type": "markdown",
      "metadata": {
        "id": "mWgeEg4V7NO9"
      },
      "source": [
        "#### Formatting\n",
        "Contoh formating berikut ini adalah mengubah angka decimal besar menjadi 2 decimal saja, "
      ]
    },
    {
      "cell_type": "code",
      "execution_count": 28,
      "metadata": {
        "colab": {
          "base_uri": "https://localhost:8080/"
        },
        "id": "Sylf6TA37LiR",
        "outputId": "0a964c83-fe95-4b70-e773-1b852ef98fa9"
      },
      "outputs": [
        {
          "name": "stdout",
          "output_type": "stream",
          "text": [
            "123.46\n"
          ]
        }
      ],
      "source": [
        "nilaiAwal = 123.456\n",
        "print(f\"{nilaiAwal:.2f}\")\n",
        "\n",
        "# di python tetap dibulatkan ke atas atau ke bawah, tapi\n",
        "# kalau di bahasa pemrograman lain hasilnya bisa beda (tidak dibulatkan)"
      ]
    },
    {
      "cell_type": "markdown",
      "metadata": {
        "id": "MErrZVag8U0v"
      },
      "source": [
        "#### Rounding vs Formatting"
      ]
    },
    {
      "cell_type": "code",
      "execution_count": 1,
      "metadata": {
        "colab": {
          "base_uri": "https://localhost:8080/"
        },
        "id": "lbrZi49O7rJW",
        "outputId": "93fc9da8-dd16-4dbb-b5d9-d80b36a01d4b"
      },
      "outputs": [
        {
          "name": "stdout",
          "output_type": "stream",
          "text": [
            "35.6\n",
            "35.6000\n"
          ]
        }
      ],
      "source": [
        "print(round(35.6000, 4))   # rounding jadi 35.6 dan 000 tidak akan ditampilkan\n",
        "print(f\"{35.6000:.4f}\")    # formatting akan tetap menampilakn 000/"
      ]
    },
    {
      "cell_type": "markdown",
      "metadata": {
        "id": "6w07f0ka89Fm"
      },
      "source": [
        "## 3. Debugging\n",
        "Proses untuk mencari tahu salahnya di mana, kalo di VSCode atau PyCharm di angka sebelah kiri dapat diklik untuk memunculkan titik merah dan harus dicek apakah ini akan terjadi error"
      ]
    },
    {
      "cell_type": "code",
      "execution_count": null,
      "metadata": {
        "id": "U4hqBWrX82j7"
      },
      "outputs": [],
      "source": [
        "\n"
      ]
    },
    {
      "cell_type": "markdown",
      "metadata": {
        "id": "sbFO__2X-Q10"
      },
      "source": [
        "## 4. Sequence of Conditions\n",
        "Ini adalah percabangan yang lebih kompleks dimana kita bisa mengecek lebih dari 2 kondisi(tidak hanya \"if\" dan \"else\" tok)"
      ]
    },
    {
      "cell_type": "code",
      "execution_count": 6,
      "metadata": {
        "id": "uYyqFHvz-Tjo"
      },
      "outputs": [
        {
          "name": "stdout",
          "output_type": "stream",
          "text": [
            "nilainya lebih dari 4\n"
          ]
        }
      ],
      "source": [
        "inputan = int(input())\n",
        "\n",
        "if inputan < 4:\n",
        "    print(\"Nilainya kurang dari 4\")\n",
        "elif inputan > 4:\n",
        "    print(\"nilainya lebih dari 4\")\n",
        "elif inputan > 10:\n",
        "    print(\"nilainya lebih dari 10\")\n",
        "else:\n",
        "    print(\"Nilainya lebi dari 4 dan lebih dari 10\")"
      ]
    },
    {
      "cell_type": "code",
      "execution_count": 7,
      "metadata": {},
      "outputs": [
        {
          "name": "stdout",
          "output_type": "stream",
          "text": [
            "Tiga\n"
          ]
        }
      ],
      "source": [
        "nilai = 3\n",
        "\n",
        "if nilai == 1:\n",
        "    print(\"Satu\")\n",
        "elif nilai == 2:\n",
        "    print(\"Dua\")\n",
        "elif nilai == 3:\n",
        "    print(\"Tiga\")\n",
        "else:\n",
        "    print(\"Nilainya bukan 1,2 atau 3\")"
      ]
    },
    {
      "attachments": {},
      "cell_type": "markdown",
      "metadata": {},
      "source": [
        "#### Variable Scope\n",
        "Variabel yang akan dimunculkan jika memenuhi kondisi tertentu, contoh di bawah ini"
      ]
    },
    {
      "cell_type": "code",
      "execution_count": 26,
      "metadata": {},
      "outputs": [
        {
          "name": "stdout",
          "output_type": "stream",
          "text": [
            "1\n"
          ]
        }
      ],
      "source": [
        "a = 1\n",
        "\n",
        "if False:\n",
        "    b = 2\n",
        "    print(b)\n",
        "# kode di atas bernilai \"False\", maka variabel b dan print tidak diakses\n",
        "print(a)"
      ]
    },
    {
      "cell_type": "code",
      "execution_count": 10,
      "metadata": {},
      "outputs": [
        {
          "name": "stdout",
          "output_type": "stream",
          "text": [
            "1000 Ya, libur\n"
          ]
        }
      ],
      "source": [
        "hariIni = \"senin\"\n",
        "\n",
        "if hariIni == \"minggu\":\n",
        "    gaji = 1000\n",
        "    isLibur = \"Ya, libur\"\n",
        "\n",
        "print(gaji, isLibur)"
      ]
    },
    {
      "cell_type": "code",
      "execution_count": 24,
      "metadata": {},
      "outputs": [
        {
          "name": "stdout",
          "output_type": "stream",
          "text": [
            "1000\n"
          ]
        }
      ],
      "source": [
        "current_day = \"Sunday\"\n",
        "\n",
        "if current_day == \"Monday\":\n",
        "    gaji = 1000\n",
        "print(gaji)"
      ]
    },
    {
      "cell_type": "code",
      "execution_count": 22,
      "metadata": {},
      "outputs": [],
      "source": [
        "current_day = \"Monday\"\n",
        "salary = 0\n",
        "if current_day == \"Monday\":\n",
        "    salary = 1000\n",
        "    print(salary)\n",
        "else:\n",
        "    pass # jika diberi \"pass\" maka tidak akan menjalankan apapun, di-skip\n"
      ]
    }
  ],
  "metadata": {
    "colab": {
      "provenance": []
    },
    "kernelspec": {
      "display_name": "Python 3",
      "name": "python3"
    },
    "language_info": {
      "codemirror_mode": {
        "name": "ipython",
        "version": 3
      },
      "file_extension": ".py",
      "mimetype": "text/x-python",
      "name": "python",
      "nbconvert_exporter": "python",
      "pygments_lexer": "ipython3",
      "version": "3.9.5"
    }
  },
  "nbformat": 4,
  "nbformat_minor": 0
}
