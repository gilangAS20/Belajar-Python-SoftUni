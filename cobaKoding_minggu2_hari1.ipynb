{
  "nbformat": 4,
  "nbformat_minor": 0,
  "metadata": {
    "colab": {
      "provenance": []
    },
    "kernelspec": {
      "name": "python3",
      "display_name": "Python 3"
    },
    "language_info": {
      "name": "python"
    }
  },
  "cells": [
    {
      "cell_type": "markdown",
      "source": [
        "# Percobaan Koding saat Meet minggu 2 hari ke 1"
      ],
      "metadata": {
        "id": "OOmPqQKYJPPY"
      }
    },
    {
      "cell_type": "code",
      "execution_count": null,
      "metadata": {
        "colab": {
          "base_uri": "https://localhost:8080/"
        },
        "id": "Nuaan1O7IXB7",
        "outputId": "9470f58a-fc25-4e1b-9575-36cfd1c22993"
      },
      "outputs": [
        {
          "output_type": "stream",
          "name": "stdout",
          "text": [
            "ab\n"
          ]
        }
      ],
      "source": [
        "print(\"a\" + \"b\")"
      ]
    },
    {
      "cell_type": "code",
      "source": [
        "number = (\"1000\")\n",
        "type(number)"
      ],
      "metadata": {
        "colab": {
          "base_uri": "https://localhost:8080/"
        },
        "id": "ZSiNu6h5I7Qj",
        "outputId": "da15e1f0-ed14-4621-8c04-ac3873b83340"
      },
      "execution_count": null,
      "outputs": [
        {
          "output_type": "execute_result",
          "data": {
            "text/plain": [
              "str"
            ]
          },
          "metadata": {},
          "execution_count": 2
        }
      ]
    },
    {
      "cell_type": "markdown",
      "source": [
        "Operasi menggabungkan dua text (string) disebut \"concatenation\""
      ],
      "metadata": {
        "id": "vyPZjuiOJi11"
      }
    },
    {
      "cell_type": "code",
      "source": [
        "print(10%3)"
      ],
      "metadata": {
        "colab": {
          "base_uri": "https://localhost:8080/"
        },
        "id": "5w-I8wSYJp2z",
        "outputId": "49acf9b2-8475-4d1c-8edf-399ff67d0812"
      },
      "execution_count": null,
      "outputs": [
        {
          "output_type": "stream",
          "name": "stdout",
          "text": [
            "1\n"
          ]
        }
      ]
    },
    {
      "cell_type": "code",
      "source": [
        "a=5\n",
        "b=2\n",
        "result = a/b\n",
        "print(result)"
      ],
      "metadata": {
        "colab": {
          "base_uri": "https://localhost:8080/"
        },
        "id": "DGSlVVrXJ8lm",
        "outputId": "8944f0af-1c20-47f0-f047-b52110db599a"
      },
      "execution_count": null,
      "outputs": [
        {
          "output_type": "stream",
          "name": "stdout",
          "text": [
            "2.5\n"
          ]
        }
      ]
    },
    {
      "cell_type": "code",
      "source": [
        "print(1+1+\"4\"+2+1)"
      ],
      "metadata": {
        "colab": {
          "base_uri": "https://localhost:8080/",
          "height": 165
        },
        "id": "iFCfUIsgKOsD",
        "outputId": "67514b4d-5126-4d2e-d682-5b16fb7b3c2e"
      },
      "execution_count": null,
      "outputs": [
        {
          "output_type": "error",
          "ename": "TypeError",
          "evalue": "ignored",
          "traceback": [
            "\u001b[0;31m---------------------------------------------------------------------------\u001b[0m",
            "\u001b[0;31mTypeError\u001b[0m                                 Traceback (most recent call last)",
            "\u001b[0;32m<ipython-input-5-dbd941b5e723>\u001b[0m in \u001b[0;36m<module>\u001b[0;34m\u001b[0m\n\u001b[0;32m----> 1\u001b[0;31m \u001b[0mprint\u001b[0m\u001b[0;34m(\u001b[0m\u001b[0;36m1\u001b[0m\u001b[0;34m+\u001b[0m\u001b[0;36m1\u001b[0m\u001b[0;34m+\u001b[0m\u001b[0;34m\"4\"\u001b[0m\u001b[0;34m+\u001b[0m\u001b[0;36m2\u001b[0m\u001b[0;34m+\u001b[0m\u001b[0;36m1\u001b[0m\u001b[0;34m)\u001b[0m\u001b[0;34m\u001b[0m\u001b[0;34m\u001b[0m\u001b[0m\n\u001b[0m",
            "\u001b[0;31mTypeError\u001b[0m: unsupported operand type(s) for +: 'int' and 'str'"
          ]
        }
      ]
    },
    {
      "cell_type": "markdown",
      "source": [
        "koding di atas error karena tidak memungkinkan menambahkan angka(int) dengan string(\" \") \\\n",
        "solusinya adalah konversi menjadi int semua atau string semua, seperti kode di bawah"
      ],
      "metadata": {
        "id": "JhvqzQ9zK1qx"
      }
    },
    {
      "cell_type": "code",
      "source": [
        "print(\"1\"+\"1\"+\"4\"+\"2\"+\"1\")\n",
        "print(1+1+4+2+1)"
      ],
      "metadata": {
        "colab": {
          "base_uri": "https://localhost:8080/"
        },
        "id": "Y8eqYfJoKY38",
        "outputId": "07d55e50-23a0-4799-c736-2a46daa3c020"
      },
      "execution_count": null,
      "outputs": [
        {
          "output_type": "stream",
          "name": "stdout",
          "text": [
            "11421\n",
            "9\n"
          ]
        }
      ]
    },
    {
      "cell_type": "markdown",
      "source": [
        "## 1. Logical Expression"
      ],
      "metadata": {
        "id": "mLu71D3sLmMF"
      }
    },
    {
      "cell_type": "markdown",
      "source": [
        "### a. Comparison Operator\n",
        "Equals : \"==\" \\\n",
        "Not equals : \"!=\" \\\n",
        "Greater than : \">\" \\\n",
        "Greater then or equals : \">=\" \\\n",
        "Less than : \"<\" \\\n",
        "Less than or equals : \"<=\" \\\n",
        "\\\n",
        "Digunakan pada numbers, symbols, dan comparable types yang lain"
      ],
      "metadata": {
        "id": "feReLN3ZLt21"
      }
    },
    {
      "cell_type": "markdown",
      "source": [
        "#### Comparing Values \n",
        "Menghasilkan output berupa \"True\" dan \"False\""
      ],
      "metadata": {
        "id": "vVmYsUe_MyT0"
      }
    },
    {
      "cell_type": "code",
      "source": [
        "a = 5\n",
        "b = 10\n",
        "print(\"apakah a lebih kecil dari b?\", a<b)\n",
        "print(\"apakah a lebih besar dari b?\", a>b)\n",
        "print(\"apakah a lebih kecil dari 0?\", a < 0)\n",
        "print(\"apakah a lebih kecil sama dengan 5?\", a <=5)\n",
        "print(\"apakah a lebih kecil dari a?\", a < a)\n",
        "print(\"apakah b sama dengan 2x nya a?\", b == 2*a)"
      ],
      "metadata": {
        "colab": {
          "base_uri": "https://localhost:8080/"
        },
        "id": "wq-8nDb5Kcv2",
        "outputId": "77301465-113a-48d2-fa2f-c7228a1f958a"
      },
      "execution_count": null,
      "outputs": [
        {
          "output_type": "stream",
          "name": "stdout",
          "text": [
            "apakah a lebih kecil dari b? True\n",
            "apakah a lebih besar dari b? False\n",
            "apakah a lebih kecil dari 0? False\n",
            "apakah a lebih kecil sama dengan 5? True\n",
            "apakah a lebih kecil dari a? False\n",
            "apakah b sama dengan 2x nya a? True\n"
          ]
        }
      ]
    },
    {
      "cell_type": "markdown",
      "source": [
        "#### Compare text menggunakan operator (==)"
      ],
      "metadata": {
        "id": "UNjiqqLwOF_C"
      }
    },
    {
      "cell_type": "code",
      "source": [
        "a = \"Gilang\"\n",
        "b = a\n",
        "print(a == b)"
      ],
      "metadata": {
        "colab": {
          "base_uri": "https://localhost:8080/"
        },
        "id": "jhTbPST5OEQj",
        "outputId": "47a3f181-faa1-4437-9acc-6370ec2ca644"
      },
      "execution_count": null,
      "outputs": [
        {
          "output_type": "stream",
          "name": "stdout",
          "text": [
            "True\n"
          ]
        }
      ]
    },
    {
      "cell_type": "code",
      "source": [
        "a = input()\n",
        "b = input()\n",
        "print(a==b)"
      ],
      "metadata": {
        "colab": {
          "base_uri": "https://localhost:8080/"
        },
        "id": "ifwTG3r8OPjj",
        "outputId": "f5587851-cf00-4f13-acf6-2b5e17c5ec51"
      },
      "execution_count": null,
      "outputs": [
        {
          "output_type": "stream",
          "name": "stdout",
          "text": [
            "geo\n",
            "geo\n",
            "True\n"
          ]
        }
      ]
    },
    {
      "cell_type": "markdown",
      "source": [
        "#### Bool Variabel"
      ],
      "metadata": {
        "id": "vMStC_BMOu1o"
      }
    },
    {
      "cell_type": "markdown",
      "source": [
        "Kita bisa memasukkan nilai \"True\" dan \"False\" pada sebuah variabel, contoh dibawah:"
      ],
      "metadata": {
        "id": "gtXa4BzzOxy-"
      }
    },
    {
      "cell_type": "code",
      "source": [
        "is_valid = True\n",
        "is_even = 4 % 2\n",
        "is_same = 4 == 2\n",
        "\n",
        "print(is_valid)\n",
        "print(is_even)\n",
        "print(is_same)"
      ],
      "metadata": {
        "colab": {
          "base_uri": "https://localhost:8080/"
        },
        "id": "zNAHIIZJOw0E",
        "outputId": "553b17d3-9c65-453c-ff2a-8bd065bca218"
      },
      "execution_count": null,
      "outputs": [
        {
          "output_type": "stream",
          "name": "stdout",
          "text": [
            "True\n",
            "0\n",
            "False\n"
          ]
        }
      ]
    },
    {
      "cell_type": "code",
      "source": [
        "a = 5\n",
        "is_positive = a > 0\n",
        "print(is_positive)\n",
        "\n",
        "b = -10\n",
        "is_positive = b > 0\n",
        "print(is_positive)"
      ],
      "metadata": {
        "colab": {
          "base_uri": "https://localhost:8080/"
        },
        "id": "_HYSpmvTPQNH",
        "outputId": "1f7ec00f-8826-4629-f9ea-16489ffb59c4"
      },
      "execution_count": null,
      "outputs": [
        {
          "output_type": "stream",
          "name": "stdout",
          "text": [
            "True\n",
            "False\n"
          ]
        }
      ]
    },
    {
      "cell_type": "markdown",
      "source": [
        "#### Simple Conditions\n",
        "Kita sering melakukan cek dan melakukan actions tergantung dari hasil pengecekan \\\n",
        "Hasilnya akan \"True\" atau \"False\""
      ],
      "metadata": {
        "id": "PvbjmHOyP9WS"
      }
    },
    {
      "cell_type": "markdown",
      "source": [
        "Contoh: \\\n",
        "1. Tulis program yang membaca inputan berupa nilai, jika hasilnya lebih dari 5 maka print \"Excellent\""
      ],
      "metadata": {
        "id": "oGAs0IANQSQU"
      }
    },
    {
      "cell_type": "markdown",
      "source": [
        "Single if:"
      ],
      "metadata": {
        "id": "MhZXyPnORmVh"
      }
    },
    {
      "cell_type": "code",
      "source": [
        "number = int(input())\n",
        "if number > 5:\n",
        "  print(\"Excellent\")\n",
        "# jika nilai inputan lebih dari 5 maka akan tampil tulisan \"Excellent\",\n",
        "# tapi jika tidak maka tidak akan menampilkan apa-apa (no output)\n"
      ],
      "metadata": {
        "colab": {
          "base_uri": "https://localhost:8080/"
        },
        "id": "jgEk7VemPXaT",
        "outputId": "bdc6b2ae-5926-440f-eaa7-e51598d303d1"
      },
      "execution_count": null,
      "outputs": [
        {
          "output_type": "stream",
          "name": "stdout",
          "text": [
            "9\n",
            "Excellent\n"
          ]
        }
      ]
    },
    {
      "cell_type": "markdown",
      "source": [
        "If-Else:\\\n",
        "program ini akan memunculkan 2 output, dengan kondisinya berbeda, contoh di bawah"
      ],
      "metadata": {
        "id": "cyETBIx7RpLd"
      }
    },
    {
      "cell_type": "code",
      "source": [
        "a = 11\n",
        "\n",
        "if a > 10:\n",
        "  print(\"Benar\")\n",
        "else:\n",
        "  print(\"Salah\")"
      ],
      "metadata": {
        "colab": {
          "base_uri": "https://localhost:8080/"
        },
        "id": "B9YINXPgQiUA",
        "outputId": "5d3cd89a-d366-4fa0-d5e6-0394fe3eff70"
      },
      "execution_count": null,
      "outputs": [
        {
          "output_type": "stream",
          "name": "stdout",
          "text": [
            "Benar\n"
          ]
        }
      ]
    },
    {
      "cell_type": "markdown",
      "source": [
        "contoh block kode (tabulasi atau spasi yang menjadikannya menyatu)"
      ],
      "metadata": {
        "id": "Xe7LW3nDSsW8"
      }
    },
    {
      "cell_type": "code",
      "source": [
        "color = \"merah\"\n",
        "\n",
        "if color == \"merah\":\n",
        "  print(\"ini adalah warna merah\")\n",
        "  print(\"ahay\")\n",
        "else:\n",
        "  print(\"ini bukan warna merah\")\n",
        "  print(\"ini adalah\", color)"
      ],
      "metadata": {
        "colab": {
          "base_uri": "https://localhost:8080/"
        },
        "id": "C_EJsbHfR9OW",
        "outputId": "765ee905-74ef-4223-c021-036d9b9d07d6"
      },
      "execution_count": null,
      "outputs": [
        {
          "output_type": "stream",
          "name": "stdout",
          "text": [
            "ini adalah warna merah\n",
            "ahay\n"
          ]
        }
      ]
    },
    {
      "cell_type": "code",
      "source": [
        "color = \"merah\"\n",
        "\n",
        "if color == \"merah\":\n",
        "  print(\"ini adalah warna merah\")\n",
        "  print(\"ahay\")\n",
        "else:\n",
        "  print(\"ini bukan warna merah\")\n",
        "  print(\"ini adalah\", color)\n",
        "\n",
        "print(\"terima kasih bouz\") # print di samping akan tetap dijalankan setelah block diatas dijalankan\n"
      ],
      "metadata": {
        "colab": {
          "base_uri": "https://localhost:8080/"
        },
        "id": "3lRcukGzSVSQ",
        "outputId": "7b6bd94f-56f8-4778-8186-7fea66c492cc"
      },
      "execution_count": null,
      "outputs": [
        {
          "output_type": "stream",
          "name": "stdout",
          "text": [
            "ini adalah warna merah\n",
            "ahay\n",
            "terima kasih bouz\n"
          ]
        }
      ]
    },
    {
      "cell_type": "code",
      "source": [
        "numberOne = int(input())\n",
        "numberTwo = int(input())\n",
        "\n",
        "print(\"Hasil pertama:\")\n",
        "if numberOne > numberTwo:\n",
        "  print(numberOne)\n",
        "if numberOne < numberTwo:\n",
        "  print(numberTwo)\n",
        "else:\n",
        "  print(\"sama bos\")\n",
        "\n",
        "# atau seperti di bawah juga oke\n",
        "\n",
        "print(\"Hasil kedua:\")\n",
        "if numberOne > numberTwo:\n",
        "  print(numberOne)\n",
        "else:\n",
        "  print(numberTwo)\n",
        "\n",
        "print(\"terima kasih\")\n"
      ],
      "metadata": {
        "colab": {
          "base_uri": "https://localhost:8080/"
        },
        "id": "UI_lOt01S19H",
        "outputId": "a376e3e5-21c0-43a1-91c2-af9cbfce425e"
      },
      "execution_count": null,
      "outputs": [
        {
          "output_type": "stream",
          "name": "stdout",
          "text": [
            "1\n",
            "1\n",
            "Hasil pertama:\n",
            "slebew\n",
            "Hasil kedua:\n",
            "1\n",
            "terima kasih\n"
          ]
        }
      ]
    },
    {
      "cell_type": "markdown",
      "source": [
        "#### Even and Odd (genap dan ganjil)"
      ],
      "metadata": {
        "id": "NWQbKOFS3kC6"
      }
    },
    {
      "cell_type": "code",
      "source": [
        "number = int(input())\n",
        "\n",
        "if number % 2 == 0:\n",
        "  print(\"Even\")\n",
        "if number % 2 != 0:\n",
        "  print(\"Odd\")\n",
        "\n",
        "# atau seperti ini lebih mudah\n",
        "if number % 2 == 0:\n",
        "  print(\"Even\")\n",
        "else:\n",
        "  print(\"Odd\")"
      ],
      "metadata": {
        "id": "Sb0AiYFbTc9S",
        "colab": {
          "base_uri": "https://localhost:8080/"
        },
        "outputId": "c2c28d05-dc56-418a-b234-db324a3b33dd"
      },
      "execution_count": 6,
      "outputs": [
        {
          "output_type": "stream",
          "name": "stdout",
          "text": [
            "1\n",
            "Odd\n",
            "Odd\n"
          ]
        }
      ]
    },
    {
      "cell_type": "markdown",
      "source": [
        "## 2. Rounding and Formatting\n",
        "Dalam program kita dapat membulatkan angka pecahan\n"
      ],
      "metadata": {
        "id": "QgT5naI54R5W"
      }
    },
    {
      "cell_type": "markdown",
      "source": [
        "#### up (ceil)\n",
        "berfungsi untuk membulatkan ke atas"
      ],
      "metadata": {
        "id": "pzzpiL8J43Og"
      }
    },
    {
      "cell_type": "code",
      "source": [
        "import math"
      ],
      "metadata": {
        "id": "Gp6Vl5Lq5Mzk"
      },
      "execution_count": 9,
      "outputs": []
    },
    {
      "cell_type": "code",
      "source": [
        "pembulatan = float(input(\"Masukkan nilai float: \"))\n",
        "print(\"Hasil pembulatan ke atas: \", math.ceil(pembulatan))"
      ],
      "metadata": {
        "colab": {
          "base_uri": "https://localhost:8080/"
        },
        "id": "fwU9i1YL3xLO",
        "outputId": "97a8cab7-bcec-43c9-f39e-ebecdea818d0"
      },
      "execution_count": 10,
      "outputs": [
        {
          "output_type": "stream",
          "name": "stdout",
          "text": [
            "Masukkan nilai float: 1.2\n",
            "Hasil pembulatan ke atas:  2\n"
          ]
        }
      ]
    },
    {
      "cell_type": "markdown",
      "source": [
        "#### down (floor)\n",
        "berfungsi untk membulatkan ke bawah"
      ],
      "metadata": {
        "id": "itp0cQc25Qsq"
      }
    },
    {
      "cell_type": "code",
      "source": [
        "pembulatan = float(input(\"Masukkan nilai float: \"))\n",
        "print(\"Hasil pembulatan ke bawah: \", math.floor(pembulatan))"
      ],
      "metadata": {
        "colab": {
          "base_uri": "https://localhost:8080/"
        },
        "id": "wkARnG_r5EYl",
        "outputId": "dd8d8052-1310-40ac-b15b-e25d2672bf7e"
      },
      "execution_count": 11,
      "outputs": [
        {
          "output_type": "stream",
          "name": "stdout",
          "text": [
            "Masukkan nilai float: 1.9\n",
            "Hasil pembulatan ke bawah:  1\n"
          ]
        }
      ]
    },
    {
      "cell_type": "markdown",
      "source": [
        "#### Fungsi Absolute\n",
        "berfungsi untuk membuat nilai menjadi positif meskipun inputan / nilainya negatif"
      ],
      "metadata": {
        "id": "PIa1xs0h5k_r"
      }
    },
    {
      "cell_type": "code",
      "source": [
        "negatif = -50\n",
        "print(\"nilai negatif:\", negatif)\n",
        "absolute = abs(negatif)\n",
        "print(\"hasil ketika dilakukan absolute: \", absolute)\n",
        "\n",
        "positif = 70\n",
        "print(\"nilai positif:\", positif)\n",
        "absolute = abs(positif)\n",
        "print(\"hasil ketika dilakukan absolute: \", absolute)"
      ],
      "metadata": {
        "colab": {
          "base_uri": "https://localhost:8080/"
        },
        "id": "3zUxAMHx5eJB",
        "outputId": "25aa22a4-89c3-4368-a5f3-53c22a78465d"
      },
      "execution_count": 13,
      "outputs": [
        {
          "output_type": "stream",
          "name": "stdout",
          "text": [
            "nilai negatif: -50\n",
            "hasil ketika dilakukan absolute:  50\n",
            "nilai positig: 70\n",
            "hasil ketika dilakukan absolute:  70\n"
          ]
        }
      ]
    },
    {
      "cell_type": "markdown",
      "source": [
        "#### Rounding (pembulatan) ke 2 decimal\n",
        "menggunakan rounding akan membulatkan angka ke n decimal (misal 2 decimal) ke atas atau ke bawah \\\n",
        "\\\n",
        "Jika nilai yang dibulatkan di <= 5 maka dibulatkan ke bawah, jika > 5 akan dibulatkan ke atas"
      ],
      "metadata": {
        "id": "q3QXAeVn6oyA"
      }
    },
    {
      "cell_type": "code",
      "source": [
        "nilai = 3.134\n",
        "rounded = round(nilai, 2)\n",
        "print(rounded)"
      ],
      "metadata": {
        "colab": {
          "base_uri": "https://localhost:8080/"
        },
        "id": "tFR2aRVM55ro",
        "outputId": "25b93893-b63e-4e8a-dae8-bb814ae0d190"
      },
      "execution_count": 19,
      "outputs": [
        {
          "output_type": "stream",
          "name": "stdout",
          "text": [
            "3.13\n"
          ]
        }
      ]
    },
    {
      "cell_type": "code",
      "source": [
        "nilai = 3.136\n",
        "rounded = round(nilai, 2)\n",
        "print(rounded)"
      ],
      "metadata": {
        "colab": {
          "base_uri": "https://localhost:8080/"
        },
        "id": "WQ8WUtzF630R",
        "outputId": "ea6deffb-823f-4a2d-88b5-506a7ea903b3"
      },
      "execution_count": 22,
      "outputs": [
        {
          "output_type": "stream",
          "name": "stdout",
          "text": [
            "3.14\n"
          ]
        }
      ]
    },
    {
      "cell_type": "code",
      "source": [
        "nilai = 3.136\n",
        "rounded = round(nilai, 1)\n",
        "print(rounded)"
      ],
      "metadata": {
        "colab": {
          "base_uri": "https://localhost:8080/"
        },
        "id": "FnPJb3E67cBc",
        "outputId": "8a3084d9-568f-4bcf-e120-3f4374b175fb"
      },
      "execution_count": 23,
      "outputs": [
        {
          "output_type": "stream",
          "name": "stdout",
          "text": [
            "3.1\n"
          ]
        }
      ]
    },
    {
      "cell_type": "markdown",
      "source": [
        "#### Formatting\n",
        "Contoh formating berikut ini adalah mengubah angka decimal besar menjadi 2 decimal saja, "
      ],
      "metadata": {
        "id": "mWgeEg4V7NO9"
      }
    },
    {
      "cell_type": "code",
      "source": [
        "nilaiAwal = 123.456\n",
        "print(f\"{nilaiAwal:.2f}\")\n",
        "\n",
        "# di python tetap dibulatkan ke atas atau ke bawah, tapi\n",
        "# kalau di bahasa pemrograman lain hasilnya bisa beda (tidak dibulatkan)"
      ],
      "metadata": {
        "colab": {
          "base_uri": "https://localhost:8080/"
        },
        "id": "Sylf6TA37LiR",
        "outputId": "0a964c83-fe95-4b70-e773-1b852ef98fa9"
      },
      "execution_count": 28,
      "outputs": [
        {
          "output_type": "stream",
          "name": "stdout",
          "text": [
            "123.46\n"
          ]
        }
      ]
    },
    {
      "cell_type": "markdown",
      "source": [
        "#### Rounding vs Formatting"
      ],
      "metadata": {
        "id": "MErrZVag8U0v"
      }
    },
    {
      "cell_type": "code",
      "source": [
        "print(round(35.6000, 4))   # rounding jadi 35.6 dan 000 tidak akan ditampilkan\n",
        "print(f\"{35.6000:.4f}\")    # formatting akan tetap menampilakn 000/"
      ],
      "metadata": {
        "colab": {
          "base_uri": "https://localhost:8080/"
        },
        "id": "lbrZi49O7rJW",
        "outputId": "93fc9da8-dd16-4dbb-b5d9-d80b36a01d4b"
      },
      "execution_count": 30,
      "outputs": [
        {
          "output_type": "stream",
          "name": "stdout",
          "text": [
            "35.6\n",
            "35.6000\n"
          ]
        }
      ]
    },
    {
      "cell_type": "markdown",
      "source": [
        "## 3. Debugging\n",
        "Proses untuk mencari tahu salahnya di mana, kalo di VSCode atau PyCharm di angka sebelah kiri dapat diklik untuk memunculkan titik merah dan harus dicek apakah ini akan terjadi error"
      ],
      "metadata": {
        "id": "6w07f0ka89Fm"
      }
    },
    {
      "cell_type": "code",
      "source": [
        "\n"
      ],
      "metadata": {
        "id": "U4hqBWrX82j7"
      },
      "execution_count": null,
      "outputs": []
    },
    {
      "cell_type": "markdown",
      "source": [
        "## 4. Sequence of Conditions\n",
        "Ini adalah percabangan yang lebih kompleks dimana kita bisa mengecek lebih dari 2 kondisi(tidak hanya \"if\" dan \"else\" tok)"
      ],
      "metadata": {
        "id": "sbFO__2X-Q10"
      }
    },
    {
      "cell_type": "code",
      "source": [],
      "metadata": {
        "id": "uYyqFHvz-Tjo"
      },
      "execution_count": null,
      "outputs": []
    }
  ]
}