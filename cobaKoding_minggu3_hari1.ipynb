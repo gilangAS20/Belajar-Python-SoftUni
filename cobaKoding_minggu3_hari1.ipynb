{
 "cells": [
  {
   "attachments": {},
   "cell_type": "markdown",
   "metadata": {},
   "source": [
    "# Latihan Python Minggu 3 Hari 1"
   ]
  },
  {
   "cell_type": "code",
   "execution_count": 1,
   "metadata": {},
   "outputs": [
    {
     "name": "stdout",
     "output_type": "stream",
     "text": [
      "Senin\n"
     ]
    }
   ],
   "source": [
    "day = int(input())\n",
    "\n",
    "switcher = {\n",
    "    1: \"Senin\",\n",
    "    2: \"Selasa\",\n",
    "    3: \"Rabu\",\n",
    "    4: \"Kamis\",\n",
    "    5: \"Jumat\",\n",
    "    6: \"Sabtu\",\n",
    "    7: \"Minggu\"\n",
    "}\n",
    "\n",
    "print(switcher.get(day, \"Error\"))"
   ]
  },
  {
   "cell_type": "code",
   "execution_count": 3,
   "metadata": {},
   "outputs": [
    {
     "name": "stdout",
     "output_type": "stream",
     "text": [
      "Inputan adalah:  senin\n",
      "hari kerja\n"
     ]
    }
   ],
   "source": [
    "hari =  input().lower()\n",
    "print(\"Inputan adalah: \", hari)\n",
    "switch_hari = {\n",
    "    \"senin\": \"hari kerja\",\n",
    "    \"selasa\": \"hari kerja\",\n",
    "    \"rabu\": \"hari kerja\",\n",
    "    \"kamis\": \"hari kerja\",\n",
    "    \"jumat\": \"hari kerja\",\n",
    "    \"sabtu\": \"hari libur\",\n",
    "    \"minggu\": \"hari libur\"\n",
    "}\n",
    "\n",
    "print(switch_hari.get(hari, \"Salah input kawan\"))"
   ]
  },
  {
   "cell_type": "code",
   "execution_count": 8,
   "metadata": {},
   "outputs": [
    {
     "name": "stdout",
     "output_type": "stream",
     "text": [
      "Salah input kawan\n"
     ]
    }
   ],
   "source": [
    "hewan = input()\n",
    "\n",
    "switch_hewan = {\n",
    "    \"kucing\": \"mamalia\",\n",
    "    \"anjing\": \"mamalia\",\n",
    "    \"buaya\": \"reptil\",\n",
    "    \"kura-kura\": \"reptil\"\n",
    "}\n",
    "\n",
    "print(switch_hewan.get(hewan, \"wah gatau bro\"))"
   ]
  },
  {
   "attachments": {},
   "cell_type": "markdown",
   "metadata": {},
   "source": [
    "Nested Conditional Statement (Nested Loop)\n"
   ]
  },
  {
   "cell_type": "code",
   "execution_count": 13,
   "metadata": {},
   "outputs": [
    {
     "name": "stdout",
     "output_type": "stream",
     "text": [
      "Mrs.\n"
     ]
    }
   ],
   "source": [
    "genderInput = input().lower() #laki-laki, perempuan\n",
    "umurInput = int(input())\n",
    "\n",
    "if genderInput == \"perempuan\":\n",
    "    if umurInput <= 16:\n",
    "        print(\"Miss.\")\n",
    "    else:\n",
    "        print(\"Mrs.\")\n",
    "\n",
    "else:\n",
    "    if umurInput <= 16:\n",
    "        print(\"Master.\")\n",
    "    else:\n",
    "        print(\"Mr.\")"
   ]
  },
  {
   "attachments": {},
   "cell_type": "markdown",
   "metadata": {},
   "source": [
    "Small Shop Problem"
   ]
  },
  {
   "cell_type": "code",
   "execution_count": 18,
   "metadata": {},
   "outputs": [
    {
     "name": "stdout",
     "output_type": "stream",
     "text": [
      "9.00\n"
     ]
    }
   ],
   "source": [
    "city = input().lower()\n",
    "product = input().lower()\n",
    "qty = int(input())\n",
    "price = 0\n",
    "if city == \"london\":\n",
    "    if product == 'coffee':\n",
    "        price = 0.50\n",
    "    elif product == 'water':\n",
    "        price = 0.80\n",
    "    elif product == 'beer':\n",
    "        price = 1.20\n",
    "    elif product == 'sweets':\n",
    "        price = 1.45\n",
    "    elif product == 'peanuts':\n",
    "        price = 1.60\n",
    "\n",
    "elif city == 'rome':\n",
    "    if product == 'coffee':\n",
    "        price = 0.40\n",
    "    elif product == 'water':\n",
    "        price = 0.70\n",
    "    elif product == 'beer':\n",
    "        price = 1.15\n",
    "    elif product == 'sweets':\n",
    "        price = 1.30\n",
    "    elif product == 'peanuts':\n",
    "        price = 1.50\n",
    "\n",
    "else:\n",
    "    if product == 'coffee':\n",
    "        price = 0.45\n",
    "    elif product == 'water':\n",
    "        price = 0.70\n",
    "    elif product == 'beer':\n",
    "        price = 1.10\n",
    "    elif product == 'sweets':\n",
    "        price = 1.35\n",
    "    elif product == 'peanuts':\n",
    "        price = 1.55\n",
    "\n",
    "print(f\"{qty*price:.2f}\")"
   ]
  },
  {
   "attachments": {},
   "cell_type": "markdown",
   "metadata": {},
   "source": [
    "### Logical AND, OR dan NOT"
   ]
  },
  {
   "attachments": {},
   "cell_type": "markdown",
   "metadata": {},
   "source": [
    "#### Logical and"
   ]
  },
  {
   "cell_type": "code",
   "execution_count": 20,
   "metadata": {},
   "outputs": [
    {
     "name": "stdout",
     "output_type": "stream",
     "text": [
      "a lebih dari 5\n",
      "a lebih dari 5\n"
     ]
    }
   ],
   "source": [
    "a = 6\n",
    "\n",
    "# kasus satu, nested if\n",
    "if a > 5:\n",
    "    if a < 10:\n",
    "        if a % 2 == 0:\n",
    "            print(\"a lebih dari 5\")\n",
    "\n",
    "# kasus dua, penggunaan and untuk menggantikan nested if\n",
    "if a > 5 and a < 10 and a % 2 == 0:\n",
    "    print(\"a lebih dari 5\")"
   ]
  },
  {
   "cell_type": "code",
   "execution_count": 28,
   "metadata": {},
   "outputs": [
    {
     "name": "stdout",
     "output_type": "stream",
     "text": [
      "Yes\n",
      "Yes\n"
     ]
    }
   ],
   "source": [
    "number = int(input())\n",
    "\n",
    "#solusi 1\n",
    "if number >= -100 and number <= 100 and number !=0:\n",
    "    print(\"Yes\")\n",
    "else:\n",
    "    print(\"No\")\n",
    "\n",
    "\n",
    "#solusi 2\n",
    "if -100 <= number <= 100 and number !=0:\n",
    "    print(\"Yes\")\n",
    "else:\n",
    "    print(\"No\")"
   ]
  },
  {
   "attachments": {},
   "cell_type": "markdown",
   "metadata": {},
   "source": [
    "#### Logical or"
   ]
  },
  {
   "cell_type": "code",
   "execution_count": null,
   "metadata": {},
   "outputs": [],
   "source": [
    "kata = input()\n",
    "\n",
    "if kata == 'example' or kata == 'demo':\n",
    "    print(\"Yes\")\n",
    "else:\n",
    "    print(\"No\")"
   ]
  },
  {
   "cell_type": "code",
   "execution_count": null,
   "metadata": {},
   "outputs": [],
   "source": [
    "buah = input()"
   ]
  },
  {
   "attachments": {},
   "cell_type": "markdown",
   "metadata": {},
   "source": [
    "#### Logical not"
   ]
  },
  {
   "cell_type": "code",
   "execution_count": 29,
   "metadata": {},
   "outputs": [
    {
     "name": "stdout",
     "output_type": "stream",
     "text": [
      "Invalid\n"
     ]
    }
   ],
   "source": [
    "valid = number > 10 and number % 2 == 0\n",
    "if not valid:\n",
    "    print(\"Invalid\")"
   ]
  },
  {
   "cell_type": "code",
   "execution_count": 31,
   "metadata": {},
   "outputs": [
    {
     "name": "stdout",
     "output_type": "stream",
     "text": [
      "bbbbbbbbbbbbbbbb\n",
      "aaaaaaaaaaaaaaaa\n"
     ]
    }
   ],
   "source": [
    "valid = False\n",
    "if valid:\n",
    "    print('aaaaaaaaaaaaaaaa')\n",
    "else:\n",
    "    print('bbbbbbbbbbbbbbbb')\n",
    "\n",
    "if not valid:\n",
    "    print('aaaaaaaaaaaaaaaa')\n",
    "else:\n",
    "    print('bbbbbbbbbbbbbbbb')"
   ]
  },
  {
   "cell_type": "code",
   "execution_count": 34,
   "metadata": {},
   "outputs": [
    {
     "name": "stdout",
     "output_type": "stream",
     "text": [
      "Invalid\n"
     ]
    }
   ],
   "source": [
    "number = int(input())\n",
    "\n",
    "valid = 100 <= number <= 200 or number == 0\n",
    "\n",
    "if not valid:\n",
    "    print(\"Invalid\")"
   ]
  },
  {
   "cell_type": "code",
   "execution_count": null,
   "metadata": {},
   "outputs": [],
   "source": [
    "a = 50\n",
    "b = 200\n",
    "c = 300\n",
    "\n",
    "if (a >= 100 and b <= 200) or (c + b >= 300 and c <= 400):\n",
    "    print(\"Yes\")\n",
    "\n",
    "if a >= 100 and "
   ]
  },
  {
   "attachments": {},
   "cell_type": "markdown",
   "metadata": {},
   "source": [
    "# Coba Tesnya"
   ]
  },
  {
   "cell_type": "code",
   "execution_count": 36,
   "metadata": {},
   "outputs": [
    {
     "name": "stdout",
     "output_type": "stream",
     "text": [
      "2.40\n"
     ]
    }
   ],
   "source": [
    "fruit = input().lower()\n",
    "day = input().lower()\n",
    "qty = int(input())\n",
    "price = 0\n",
    "if day == 'monday' or day == 'tuesday' or day == 'wednesday' or day == 'thursday' or day == 'friday':\n",
    "    if fruit == 'banana':\n",
    "         price = 2.50\n",
    "    elif fruit == 'apple':\n",
    "        price = 1.20\n",
    "    elif fruit == 'orange':\n",
    "        price = 0.85\n",
    "    elif fruit == 'grapefruit':\n",
    "        price = 1.45\n",
    "    elif fruit == 'kiwi':\n",
    "        price = 2.70\n",
    "    elif fruit == 'pineapple':\n",
    "        price = 5.50\n",
    "    elif fruit == 'grapes':\n",
    "        price = 3.85\n",
    "\n",
    "elif day == 'saturday' or day == 'sunday':\n",
    "    if fruit == 'banana':\n",
    "        price = 2.70\n",
    "    elif fruit == 'apple':\n",
    "        price = 1.25\n",
    "    elif fruit == 'orange':\n",
    "        price = 0.90\n",
    "    elif fruit == 'grapefruit':\n",
    "        price = 1.60\n",
    "    elif fruit == 'kiwi':\n",
    "        price = 3.00\n",
    "    elif fruit == 'pineapple':\n",
    "        price = 5.60\n",
    "    elif fruit == 'grapes':\n",
    "        price = 4.20\n",
    "\n",
    "print(f\"{qty*price:.2f}\")"
   ]
  },
  {
   "attachments": {},
   "cell_type": "markdown",
   "metadata": {},
   "source": [
    "### Trade Commissions - Problem"
   ]
  },
  {
   "cell_type": "code",
   "execution_count": 39,
   "metadata": {},
   "outputs": [
    {
     "name": "stdout",
     "output_type": "stream",
     "text": [
      "27.50\n"
     ]
    }
   ],
   "source": [
    "town = input().lower()\n",
    "price = float(input())\n",
    "\n",
    "if town == 'london':\n",
    "    if 0 <= price <= 500:\n",
    "        print(f\"{price*0.10:.2f}\")\n",
    "    elif 500 < price <=1000:\n",
    "        print(f\"{price*0.07:.2f}\")\n",
    "    elif 1000 < price <= 10000:\n",
    "        print(f\"{price*0.08:.2f}\")\n",
    "    else:\n",
    "        print(f\"{price*0.12:.2f}\")\n",
    "\n",
    "elif town == 'paris':\n",
    "    if 0 <= price <= 500:\n",
    "        print(f\"{price*0.045:.2f}\")\n",
    "    elif 500 < price <=1000:\n",
    "        print(f\"{price*0.075:.2f}\")\n",
    "    elif 1000 < price <= 10000:\n",
    "        print(f\"{price*0.1:.2f}\")\n",
    "    else:\n",
    "        print(f\"{price*0.13:.2f}\")  \n",
    "\n",
    "elif town == 'rome':\n",
    "    if 0 <= price <= 500:\n",
    "        print(f\"{price*0.055:.2f}\")\n",
    "    elif 500 < price <=1000:\n",
    "        print(f\"{price*0.08:.2f}\")\n",
    "    elif 1000 < price <= 10000:\n",
    "        print(f\"{price*0.12:.2f}\")\n",
    "    else:\n",
    "        print(f\"{price*0.145:.2f}\") "
   ]
  },
  {
   "attachments": {},
   "cell_type": "markdown",
   "metadata": {},
   "source": [
    "### Working Hours"
   ]
  },
  {
   "cell_type": "code",
   "execution_count": 42,
   "metadata": {},
   "outputs": [
    {
     "name": "stdout",
     "output_type": "stream",
     "text": [
      "closed\n"
     ]
    }
   ],
   "source": [
    "hour = int(input())\n",
    "day = input().lower()\n",
    "\n",
    "if day == 'monday' or day == 'tuesday' or day == 'wednesday' or day == 'thursday' or day == 'friday' or day == 'saturday':\n",
    "    if hour >= 10 and hour <= 18:\n",
    "        print(\"open\")\n",
    "    else:\n",
    "        print(\"closed\")\n",
    "elif day == 'sunday':\n",
    "    print(\"closed\")"
   ]
  },
  {
   "attachments": {},
   "cell_type": "markdown",
   "metadata": {},
   "source": [
    "### Cinema Ticket"
   ]
  },
  {
   "cell_type": "code",
   "execution_count": 65,
   "metadata": {},
   "outputs": [
    {
     "name": "stdout",
     "output_type": "stream",
     "text": [
      "12\n"
     ]
    }
   ],
   "source": [
    "day = input()\n",
    "\n",
    "switcher_day ={\n",
    "    \"monday\": 12,\n",
    "    \"tuesday\": 12,\n",
    "    \"wednesday\": 14,\n",
    "    \"thursday\": 14,\n",
    "    \"friday\": 12,\n",
    "    \"saturday\": 16,\n",
    "    \"sunday\": 16\n",
    "}\n",
    "\n",
    "print(switcher_day.get(day, \"\"))"
   ]
  },
  {
   "attachments": {},
   "cell_type": "markdown",
   "metadata": {},
   "source": [
    "### Fruit or Vegetable"
   ]
  },
  {
   "cell_type": "code",
   "execution_count": 52,
   "metadata": {},
   "outputs": [
    {
     "name": "stdout",
     "output_type": "stream",
     "text": [
      "unknown\n"
     ]
    }
   ],
   "source": [
    "product = input()\n",
    "\n",
    "if product == 'banana' or product == 'apple' or product == 'kiwi' or product == 'cherry' or product == 'lemon' or product == 'grapes':\n",
    "    print(\"fruit\")\n",
    "elif product == 'tomato' or product == 'cucumber' or product == 'pepper' or product == 'carrot':\n",
    "    print(\"vegetables\")\n",
    "else:\n",
    "    print(\"unknown\")\n"
   ]
  },
  {
   "attachments": {},
   "cell_type": "markdown",
   "metadata": {},
   "source": [
    "### Invalid Number"
   ]
  },
  {
   "cell_type": "code",
   "execution_count": 54,
   "metadata": {},
   "outputs": [
    {
     "name": "stdout",
     "output_type": "stream",
     "text": [
      "5.00\n"
     ]
    }
   ],
   "source": [
    "day = input().title()\n",
    "product = input()\n",
    "qty = int(input())\n",
    "price = 0\n",
    "if day == 'Monday' or day == 'Tuesday' or day == 'Wednesday' or day == 'Thursday' or day == 'Friday':\n",
    "    if product == 'banana':\n",
    "        price = 2.50\n",
    "    elif product == 'apple':\n",
    "        price = 1.20\n",
    "    elif product == 'orange':\n",
    "        price = 0.85\n",
    "    elif product == 'grapefruit':\n",
    "        price = 1.45\n",
    "    elif product == 'kiwi':\n",
    "        price = 2.70\n",
    "    elif product == 'pineapple':\n",
    "        price = 5.50\n",
    "    elif product == 'grapes':\n",
    "        price = 3.85\n",
    "\n",
    "elif day == 'Saturday' or day == 'Sunday':\n",
    "    if product == 'banana':\n",
    "        price = 2.70\n",
    "    elif product == 'apple':\n",
    "        price = 1.25\n",
    "    elif product == 'orange':\n",
    "        price = 0.90\n",
    "    elif product == 'grapefruit':\n",
    "        price = 1.60\n",
    "    elif product == 'kiwi':\n",
    "        price = 3.00\n",
    "    elif product == 'pineapple':\n",
    "        price = 5.60\n",
    "    elif product == 'grapes':\n",
    "        price = 4.20\n",
    "\n",
    "else:\n",
    "    pass\n",
    "\n",
    "print(f\"{qty*price:.2f}\")"
   ]
  },
  {
   "attachments": {},
   "cell_type": "markdown",
   "metadata": {},
   "source": [
    "### Trade Commission"
   ]
  },
  {
   "cell_type": "code",
   "execution_count": null,
   "metadata": {},
   "outputs": [],
   "source": [
    "town = input().lower()\n",
    "volume = float(input())\n",
    "\n",
    "if town == 'london':\n",
    "    if 0 <= volume <= 500:\n",
    "        print(f\"{volume*0.05:.2f}\")\n",
    "    elif 500 < volume <= 1000:\n",
    "        print(f\"{volume*0.07:.2f}\")\n",
    "    elif 1000 < volume <= 10000:\n",
    "        print(f\"{volume*0.08:.2f}\")\n",
    "    elif volume > 10000:\n",
    "        print(f\"{volume*0.12:.2f}\")\n",
    "\n",
    "elif town == 'paris':\n",
    "    if 0 <= volume <= 500:\n",
    "        print(f\"{volume*0.045:.2f}\")\n",
    "    elif 500 < volume <= 1000:\n",
    "        print(f\"{volume*0.075:.2f}\")\n",
    "    elif 1000 < volume <= 10000:\n",
    "        print(f\"{volume*0.1:.2f}\")\n",
    "    elif volume > 10000:\n",
    "        print(f\"{volume*0.13:.2f}\")\n",
    "\n",
    "elif town == 'rome': #lanjutkan kawandddd\n"
   ]
  },
  {
   "attachments": {},
   "cell_type": "markdown",
   "metadata": {},
   "source": [
    "### Small Shop"
   ]
  },
  {
   "cell_type": "code",
   "execution_count": 63,
   "metadata": {},
   "outputs": [
    {
     "ename": "ValueError",
     "evalue": "invalid literal for int() with base 10: '2.23'",
     "output_type": "error",
     "traceback": [
      "\u001b[1;31m---------------------------------------------------------------------------\u001b[0m",
      "\u001b[1;31mValueError\u001b[0m                                Traceback (most recent call last)",
      "\u001b[1;32m<ipython-input-63-108db232315d>\u001b[0m in \u001b[0;36m<module>\u001b[1;34m\u001b[0m\n\u001b[0;32m      1\u001b[0m \u001b[0mproduct\u001b[0m \u001b[1;33m=\u001b[0m \u001b[0minput\u001b[0m\u001b[1;33m(\u001b[0m\u001b[1;33m)\u001b[0m\u001b[1;33m.\u001b[0m\u001b[0mlower\u001b[0m\u001b[1;33m(\u001b[0m\u001b[1;33m)\u001b[0m\u001b[1;33m\u001b[0m\u001b[1;33m\u001b[0m\u001b[0m\n\u001b[0;32m      2\u001b[0m \u001b[0mcity\u001b[0m \u001b[1;33m=\u001b[0m \u001b[0minput\u001b[0m\u001b[1;33m(\u001b[0m\u001b[1;33m)\u001b[0m\u001b[1;33m.\u001b[0m\u001b[0mlower\u001b[0m\u001b[1;33m(\u001b[0m\u001b[1;33m)\u001b[0m\u001b[1;33m\u001b[0m\u001b[1;33m\u001b[0m\u001b[0m\n\u001b[1;32m----> 3\u001b[1;33m \u001b[0mqty\u001b[0m \u001b[1;33m=\u001b[0m \u001b[0mint\u001b[0m\u001b[1;33m(\u001b[0m\u001b[0minput\u001b[0m\u001b[1;33m(\u001b[0m\u001b[1;33m)\u001b[0m\u001b[1;33m)\u001b[0m\u001b[1;33m\u001b[0m\u001b[1;33m\u001b[0m\u001b[0m\n\u001b[0m\u001b[0;32m      4\u001b[0m \u001b[0mprice\u001b[0m \u001b[1;33m=\u001b[0m \u001b[1;36m0\u001b[0m\u001b[1;33m\u001b[0m\u001b[1;33m\u001b[0m\u001b[0m\n\u001b[0;32m      5\u001b[0m \u001b[1;32mif\u001b[0m \u001b[0mcity\u001b[0m \u001b[1;33m==\u001b[0m \u001b[1;34m'london'\u001b[0m\u001b[1;33m:\u001b[0m\u001b[1;33m\u001b[0m\u001b[1;33m\u001b[0m\u001b[0m\n",
      "\u001b[1;31mValueError\u001b[0m: invalid literal for int() with base 10: '2.23'"
     ]
    }
   ],
   "source": [
    "product = input().lower()\n",
    "city = input().lower()\n",
    "qty = float(input())\n",
    "price = 0\n",
    "if city == 'london':\n",
    "    if product == 'coffee':\n",
    "        price = 0.50\n",
    "    elif product == 'water':\n",
    "        price = 0.80\n",
    "    elif product == 'beer':\n",
    "        price = 1.20\n",
    "    elif product == 'sweets':\n",
    "        price = 1.45\n",
    "    elif product == 'peanuts':\n",
    "        price = 1.60\n",
    "\n",
    "elif city == 'rome':\n",
    "    if product == 'coffee':\n",
    "        price = 0.40\n",
    "    elif product == 'water':\n",
    "        price = 0.70\n",
    "    elif product == 'beer':\n",
    "        price = 1.15\n",
    "    elif product == 'sweets':\n",
    "        price = 1.30\n",
    "    elif product == 'peanuts':\n",
    "        price = 1.50\n",
    "\n",
    "elif city == 'paris':\n",
    "    if product == 'coffee':\n",
    "        price = 0.45\n",
    "    elif product == 'water':\n",
    "        price = 0.70\n",
    "    elif product == 'beer':\n",
    "        price = 1.10\n",
    "    elif product == 'sweets':\n",
    "        price = 1.35\n",
    "    elif product == 'peanuts':\n",
    "        price = 1.55\n",
    "\n",
    "print(f\"{qty*price}\")   "
   ]
  }
 ],
 "metadata": {
  "kernelspec": {
   "display_name": "base",
   "language": "python",
   "name": "python3"
  },
  "language_info": {
   "codemirror_mode": {
    "name": "ipython",
    "version": 3
   },
   "file_extension": ".py",
   "mimetype": "text/x-python",
   "name": "python",
   "nbconvert_exporter": "python",
   "pygments_lexer": "ipython3",
   "version": "3.8.5"
  },
  "orig_nbformat": 4
 },
 "nbformat": 4,
 "nbformat_minor": 2
}
