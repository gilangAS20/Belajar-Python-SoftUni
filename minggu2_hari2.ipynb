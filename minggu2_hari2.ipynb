{
 "cells": [
  {
   "attachments": {},
   "cell_type": "markdown",
   "metadata": {},
   "source": [
    "# Latihan Hari 2 Minggu 2 (Conditional Statement Excercise)"
   ]
  },
  {
   "attachments": {},
   "cell_type": "markdown",
   "metadata": {},
   "source": [
    "### 1. Sum Seconds"
   ]
  },
  {
   "cell_type": "code",
   "execution_count": 5,
   "metadata": {},
   "outputs": [
    {
     "name": "stdout",
     "output_type": "stream",
     "text": [
      "0:36\n"
     ]
    }
   ],
   "source": [
    "waktuSatu = int(input())\n",
    "waktuDua = int(input())\n",
    "waktuTiga = int(input())\n",
    "\n",
    "totalWaktu = waktuSatu + waktuDua + waktuTiga\n",
    "\n",
    "menit = totalWaktu // 60\n",
    "detik = totalWaktu % 60\n",
    "\n",
    "if detik < 10:\n",
    "    print(f\"{menit}:0{detik}\")\n",
    "else:\n",
    "    print(f\"{menit}:{detik}\")"
   ]
  },
  {
   "attachments": {},
   "cell_type": "markdown",
   "metadata": {},
   "source": [
    "### 2. Bonus Score"
   ]
  },
  {
   "cell_type": "code",
   "execution_count": 24,
   "metadata": {},
   "outputs": [
    {
     "name": "stdout",
     "output_type": "stream",
     "text": [
      "1589.5\n",
      "17464.5\n"
     ]
    }
   ],
   "source": [
    "point = float(input())\n",
    "bonus = 0\n",
    "\n",
    "if point <= 100:\n",
    "    bonus = 5\n",
    "elif point > 100 and point <= 1000:\n",
    "    bonus = point * (20/100)\n",
    "elif point > 1000:\n",
    "    bonus = point * (10/100)\n",
    "\n",
    "if point % 2 == 0:\n",
    "    bonus += 1\n",
    "elif point % 10 == 5:\n",
    "    bonus += 2\n",
    "\n",
    "totalPoint = point + bonus\n",
    "print(float(bonus))\n",
    "print(totalPoint)\n"
   ]
  },
  {
   "attachments": {},
   "cell_type": "markdown",
   "metadata": {},
   "source": [
    "### 3. Time + 15 Minutes"
   ]
  },
  {
   "cell_type": "code",
   "execution_count": 33,
   "metadata": {},
   "outputs": [
    {
     "name": "stdout",
     "output_type": "stream",
     "text": [
      "13:04\n"
     ]
    }
   ],
   "source": [
    "hours = int(input())\n",
    "minutes = int(input())\n",
    "add_minutes = 15\n",
    "\n",
    "totalMinutes = (hours*60) + minutes + add_minutes\n",
    "\n",
    "newHours = totalMinutes // 60\n",
    "newMinutes = totalMinutes % 60\n",
    "\n",
    "if newHours > 23:\n",
    "    newHours -= 24\n",
    "\n",
    "if newMinutes < 10:\n",
    "    newMinutes = (f\"0{newMinutes}\")\n",
    "\n",
    "print(f\"{newHours}:{newMinutes}\")\n"
   ]
  },
  {
   "attachments": {},
   "cell_type": "markdown",
   "metadata": {},
   "source": [
    "### 4. Toy Shop"
   ]
  },
  {
   "cell_type": "code",
   "execution_count": 7,
   "metadata": {},
   "outputs": [
    {
     "name": "stdout",
     "output_type": "stream",
     "text": [
      "Not enough money! 238.73 USD needed.\n"
     ]
    }
   ],
   "source": [
    "puzzlePrice = 2.60\n",
    "talkingDollPrice = 3\n",
    "teddyBearPrice = 4.10\n",
    "minionPrice = 8.20\n",
    "truckPrice = 2\n",
    "finalPrice = 0\n",
    "\n",
    "tripPrice = float(input())\n",
    "numPuzzle = int(input())\n",
    "numTalkingDoll = int(input())\n",
    "numTeddyBear = int(input())\n",
    "numMinion = int(input())\n",
    "numTruck = int(input())\n",
    "\n",
    "toyPrice = ((puzzlePrice*numPuzzle) + \n",
    "            (talkingDollPrice*numTalkingDoll) + \n",
    "            (teddyBearPrice*numTeddyBear) + \n",
    "            (minionPrice*numMinion) + \n",
    "            (truckPrice*numTruck))\n",
    "\n",
    "toyNum = (numPuzzle + numTalkingDoll + numTeddyBear + numMinion + numTruck)\n",
    "\n",
    "if toyNum >  50:\n",
    "    finalPrice = toyPrice - (toyPrice * (25/100))\n",
    "else:\n",
    "    finalPrice = toyPrice\n",
    "\n",
    "rent = finalPrice * (10/100)\n",
    "profit = finalPrice - rent\n",
    "\n",
    "checkMoney = profit-tripPrice\n",
    "\n",
    "if checkMoney < 0:\n",
    "   checkMoney = checkMoney * -1\n",
    "\n",
    "checkMoney = format(checkMoney, '.2f')\n",
    "\n",
    "if profit >= tripPrice:\n",
    "    print(f\"Yes! {checkMoney} USD left.\")\n",
    "else:\n",
    "    print(f\"Not enough money! {checkMoney} USD needed.\")"
   ]
  },
  {
   "attachments": {},
   "cell_type": "markdown",
   "metadata": {},
   "source": [
    "### 5. Godzilla vs. Kong"
   ]
  },
  {
   "cell_type": "code",
   "execution_count": 9,
   "metadata": {},
   "outputs": [
    {
     "name": "stdout",
     "output_type": "stream",
     "text": [
      "Not enough money!\n",
      "Wingard needs 2495.77 more.\n"
     ]
    }
   ],
   "source": [
    "movieBudget = float(input())\n",
    "numOfExtr = int(input())\n",
    "priceCloth = float(input())\n",
    "\n",
    "#print(movieBudget)\n",
    "#print(numOfExtr)\n",
    "#print(priceCloth)\n",
    "\n",
    "sumOfDecor = movieBudget * (10/100)\n",
    "sumOfCloth = (numOfExtr * priceCloth)\n",
    "\n",
    "if numOfExtr > 150:\n",
    "    sumOfCloth -= sumOfCloth *(10/100)\n",
    "    totalBudget = sumOfDecor  +  sumOfCloth\n",
    "    final = movieBudget - totalBudget\n",
    "\n",
    "    if final >= 1:\n",
    "        print(\"Action!\")\n",
    "        print(f\"Wingard starts filming with {final:.2f} USD left.\")\n",
    "    else:\n",
    "        print(\"Not enough money!\")\n",
    "        print(f\"Wingard needs {(final*-1):.2f} USD more.\")\n",
    "\n",
    "else:\n",
    "    totalBudget = sumOfDecor  +  sumOfCloth\n",
    "    final = movieBudget - totalBudget\n",
    "\n",
    "    if final >= 1:\n",
    "        print(\"Action!\")\n",
    "        print(f\"Wingard starts filming with {final:.2f} USD left.\")\n",
    "    else:\n",
    "        print(\"Not enough money!\")\n",
    "        print(f\"Wingard needs {(final*-1):.2f} USD more.\")\n",
    "\n"
   ]
  },
  {
   "attachments": {},
   "cell_type": "markdown",
   "metadata": {},
   "source": [
    "### 6. World Swimming Record"
   ]
  },
  {
   "cell_type": "code",
   "execution_count": 43,
   "metadata": {},
   "outputs": [
    {
     "name": "stdout",
     "output_type": "stream",
     "text": [
      "55555.67\n",
      "3017.0\n",
      "5.03\n",
      "2512.5\n",
      "15175.51\n",
      "17688.010000000002\n",
      "Yes, he succeeded! The new world record is 17688.01 seconds.\n"
     ]
    }
   ],
   "source": [
    "recordSecond = float(input())\n",
    "distanceMeter = float(input())\n",
    "timeSwim = float(input())\n",
    "# tiap 15 meter dia akan semakin lambat 12.5 detik\n",
    "#print(recordSecond)\n",
    "#print(distanceMeter)\n",
    "#print(timeSwim)\n",
    "\n",
    "totalTimeSlow = int((distanceMeter / 15)) * 12.5\n",
    "targetTime = distanceMeter * timeSwim\n",
    "totalTime = targetTime + totalTimeSlow\n",
    "\n",
    "#print(totalTimeSlow)\n",
    "#print(targetTime)\n",
    "#print(totalTime)\n",
    "\n",
    "if recordSecond - totalTime < 0:\n",
    "    print(f\"No, he failed! He was {(totalTime-recordSecond):.2f} seconds slower.\")\n",
    "\n",
    "else:\n",
    "    print(f\"Yes, he succeeded! The new world record is {totalTime:.2f} seconds.\")\n"
   ]
  },
  {
   "attachments": {},
   "cell_type": "markdown",
   "metadata": {},
   "source": [
    "### 7. Shopping"
   ]
  },
  {
   "cell_type": "code",
   "execution_count": 28,
   "metadata": {},
   "outputs": [
    {
     "name": "stdout",
     "output_type": "stream",
     "text": [
      "Not enough money! You need 3.92 USD more!\n"
     ]
    }
   ],
   "source": [
    "budget = float(input())\n",
    "numVideoCard = int(input())\n",
    "numCPU = int(input())\n",
    "numRAM = int(input())\n",
    "\n",
    "#print(budget)\n",
    "#print(numVideoCard)\n",
    "#print(numCPU)\n",
    "#print(numRAM)\n",
    "\n",
    "priceVideoCard = numVideoCard * 250\n",
    "priceCPU = numCPU * (priceVideoCard * (35/100))\n",
    "priceRAM = numRAM * (priceVideoCard * (10/100))\n",
    "\n",
    "total = priceVideoCard + priceCPU + priceRAM\n",
    "#print(total)\n",
    "\n",
    "if numVideoCard > numCPU:\n",
    "    total = total - (total*(15/100))\n",
    "    #print(total)\n",
    "\n",
    "totalFinal = budget - total\n",
    "\n",
    "if totalFinal >= 1:\n",
    "    print(f\"You have {totalFinal:.2f} USD left!\")\n",
    "else:\n",
    "    print(f\"Not enough money! You need {(totalFinal*-1):.2f} USD more!\")\n",
    "\n",
    "\n"
   ]
  },
  {
   "attachments": {},
   "cell_type": "markdown",
   "metadata": {},
   "source": [
    "### 8. Lunch Break"
   ]
  },
  {
   "cell_type": "code",
   "execution_count": 54,
   "metadata": {},
   "outputs": [
    {
     "name": "stdout",
     "output_type": "stream",
     "text": [
      "You don't have enough time to watch tw, you need 11 more minutes.\n"
     ]
    }
   ],
   "source": [
    "import math\n",
    "movie = input()\n",
    "duration = int(input())\n",
    "breakTime = int(input())\n",
    "\n",
    "lunchTime = breakTime * 1/8\n",
    "restTime = breakTime * 1/4\n",
    "remainTime = breakTime - lunchTime - restTime\n",
    "\n",
    "#print(lunchTime)\n",
    "#print(breakTime)\n",
    "#print(remainTime)\n",
    "\n",
    "if duration <= remainTime:\n",
    "    print(f\"You have enough time to watch {movie} and left with {math.ceil(remainTime-duration)} minutes free time.\")\n",
    "else:\n",
    "    print(f\"You don't have enough time to watch {movie}, you need {math.ceil(duration-remainTime)} more minutes.\")"
   ]
  },
  {
   "cell_type": "code",
   "execution_count": null,
   "metadata": {},
   "outputs": [],
   "source": []
  }
 ],
 "metadata": {
  "kernelspec": {
   "display_name": "Python 3",
   "language": "python",
   "name": "python3"
  },
  "language_info": {
   "codemirror_mode": {
    "name": "ipython",
    "version": 3
   },
   "file_extension": ".py",
   "mimetype": "text/x-python",
   "name": "python",
   "nbconvert_exporter": "python",
   "pygments_lexer": "ipython3",
   "version": "3.9.5"
  },
  "orig_nbformat": 4,
  "vscode": {
   "interpreter": {
    "hash": "737c39a316ee3076bf52f879157685a11d39bba9c72b4c5e24a91a478655744f"
   }
  }
 },
 "nbformat": 4,
 "nbformat_minor": 2
}
