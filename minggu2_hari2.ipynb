{
 "cells": [
  {
   "attachments": {},
   "cell_type": "markdown",
   "metadata": {},
   "source": [
    "# Latihan Hari 2 Minggu 2 (Conditional Statement Excercise)"
   ]
  },
  {
   "attachments": {},
   "cell_type": "markdown",
   "metadata": {},
   "source": [
    "### 1. Sum Seconds"
   ]
  },
  {
   "cell_type": "code",
   "execution_count": 5,
   "metadata": {},
   "outputs": [
    {
     "name": "stdout",
     "output_type": "stream",
     "text": [
      "0:36\n"
     ]
    }
   ],
   "source": [
    "waktuSatu = int(input())\n",
    "waktuDua = int(input())\n",
    "waktuTiga = int(input())\n",
    "\n",
    "totalWaktu = waktuSatu + waktuDua + waktuTiga\n",
    "\n",
    "menit = totalWaktu // 60\n",
    "detik = totalWaktu % 60\n",
    "\n",
    "if detik < 10:\n",
    "    print(f\"{menit}:0{detik}\")\n",
    "else:\n",
    "    print(f\"{menit}:{detik}\")"
   ]
  },
  {
   "attachments": {},
   "cell_type": "markdown",
   "metadata": {},
   "source": [
    "### 2. Bonus Score"
   ]
  }
 ],
 "metadata": {
  "kernelspec": {
   "display_name": "Python 3",
   "language": "python",
   "name": "python3"
  },
  "language_info": {
   "codemirror_mode": {
    "name": "ipython",
    "version": 3
   },
   "file_extension": ".py",
   "mimetype": "text/x-python",
   "name": "python",
   "nbconvert_exporter": "python",
   "pygments_lexer": "ipython3",
   "version": "3.9.5"
  },
  "orig_nbformat": 4,
  "vscode": {
   "interpreter": {
    "hash": "737c39a316ee3076bf52f879157685a11d39bba9c72b4c5e24a91a478655744f"
   }
  }
 },
 "nbformat": 4,
 "nbformat_minor": 2
}
