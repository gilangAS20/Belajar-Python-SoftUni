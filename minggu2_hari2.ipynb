{
 "cells": [
  {
   "attachments": {},
   "cell_type": "markdown",
   "metadata": {},
   "source": [
    "# Latihan Hari 2 Minggu 2 (Conditional Statement Excercise)"
   ]
  },
  {
   "attachments": {},
   "cell_type": "markdown",
   "metadata": {},
   "source": [
    "### 1. Sum Seconds"
   ]
  },
  {
   "cell_type": "code",
   "execution_count": 5,
   "metadata": {},
   "outputs": [
    {
     "name": "stdout",
     "output_type": "stream",
     "text": [
      "0:36\n"
     ]
    }
   ],
   "source": [
    "waktuSatu = int(input())\n",
    "waktuDua = int(input())\n",
    "waktuTiga = int(input())\n",
    "\n",
    "totalWaktu = waktuSatu + waktuDua + waktuTiga\n",
    "\n",
    "menit = totalWaktu // 60\n",
    "detik = totalWaktu % 60\n",
    "\n",
    "if detik < 10:\n",
    "    print(f\"{menit}:0{detik}\")\n",
    "else:\n",
    "    print(f\"{menit}:{detik}\")"
   ]
  },
  {
   "attachments": {},
   "cell_type": "markdown",
   "metadata": {},
   "source": [
    "### 2. Bonus Score"
   ]
  },
  {
   "cell_type": "code",
   "execution_count": 24,
   "metadata": {},
   "outputs": [
    {
     "name": "stdout",
     "output_type": "stream",
     "text": [
      "1589.5\n",
      "17464.5\n"
     ]
    }
   ],
   "source": [
    "point = float(input())\n",
    "bonus = 0\n",
    "\n",
    "if point <= 100:\n",
    "    bonus = 5\n",
    "elif point > 100 and point <= 1000:\n",
    "    bonus = point * (20/100)\n",
    "elif point > 1000:\n",
    "    bonus = point * (10/100)\n",
    "\n",
    "if point % 2 == 0:\n",
    "    bonus += 1\n",
    "elif point % 10 == 5:\n",
    "    bonus += 2\n",
    "\n",
    "totalPoint = point + bonus\n",
    "print(float(bonus))\n",
    "print(totalPoint)\n"
   ]
  },
  {
   "attachments": {},
   "cell_type": "markdown",
   "metadata": {},
   "source": [
    "### 3. Time + 15 Minutes"
   ]
  },
  {
   "cell_type": "code",
   "execution_count": 33,
   "metadata": {},
   "outputs": [
    {
     "name": "stdout",
     "output_type": "stream",
     "text": [
      "13:04\n"
     ]
    }
   ],
   "source": [
    "hours = int(input())\n",
    "minutes = int(input())\n",
    "add_minutes = 15\n",
    "\n",
    "totalMinutes = (hours*60) + minutes + add_minutes\n",
    "\n",
    "newHours = totalMinutes // 60\n",
    "newMinutes = totalMinutes % 60\n",
    "\n",
    "if newHours > 23:\n",
    "    newHours -= 24\n",
    "\n",
    "if newMinutes < 10:\n",
    "    newMinutes = (f\"0{newMinutes}\")\n",
    "\n",
    "print(f\"{newHours}:{newMinutes}\")"
   ]
  }
 ],
 "metadata": {
  "kernelspec": {
   "display_name": "Python 3",
   "language": "python",
   "name": "python3"
  },
  "language_info": {
   "codemirror_mode": {
    "name": "ipython",
    "version": 3
   },
   "file_extension": ".py",
   "mimetype": "text/x-python",
   "name": "python",
   "nbconvert_exporter": "python",
   "pygments_lexer": "ipython3",
   "version": "3.9.5"
  },
  "orig_nbformat": 4,
  "vscode": {
   "interpreter": {
    "hash": "737c39a316ee3076bf52f879157685a11d39bba9c72b4c5e24a91a478655744f"
   }
  }
 },
 "nbformat": 4,
 "nbformat_minor": 2
}
