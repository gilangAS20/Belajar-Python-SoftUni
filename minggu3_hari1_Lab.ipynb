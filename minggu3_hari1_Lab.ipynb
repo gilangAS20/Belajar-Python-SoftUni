{
 "cells": [
  {
   "attachments": {},
   "cell_type": "markdown",
   "metadata": {},
   "source": [
    "# Minggu 3 Hari 1 (Excercise Lab)"
   ]
  },
  {
   "attachments": {},
   "cell_type": "markdown",
   "metadata": {},
   "source": [
    "## 1. Day of Week"
   ]
  },
  {
   "cell_type": "code",
   "execution_count": 4,
   "metadata": {},
   "outputs": [
    {
     "name": "stdout",
     "output_type": "stream",
     "text": [
      "Sunday\n"
     ]
    }
   ],
   "source": [
    "day = int(input())\n",
    "\n",
    "listDay = {1: \"Monday\",\n",
    "           2: \"Tuesday\",\n",
    "           3: \"Wednesday\",\n",
    "           4: \"Thursday\",\n",
    "           5: \"Friday\",\n",
    "           6: \"Saturday\",\n",
    "           7: \"Sunday\"}\n",
    "\n",
    "print(listDay[day])"
   ]
  },
  {
   "attachments": {},
   "cell_type": "markdown",
   "metadata": {},
   "source": [
    "## 2. Weekend or Working Day"
   ]
  },
  {
   "cell_type": "code",
   "execution_count": 10,
   "metadata": {},
   "outputs": [
    {
     "name": "stdout",
     "output_type": "stream",
     "text": [
      "Working day\n"
     ]
    }
   ],
   "source": [
    "day = input().title()\n",
    "\n",
    "listDay = {\"Monday\": \"Working day\",\n",
    "            \"Tuesday\": \"Working day\",\n",
    "            \"Wednesday\": \"Working day\",\n",
    "            \"Thursday\": \"Working day\",\n",
    "            \"Friday\": \"Working day\",\n",
    "            \"Saturday\": \"Weekend\",\n",
    "            \"Sunday\": \"Weekend\"}\n",
    "\n",
    "if day not in listDay:\n",
    "    print(\"Error\")\n",
    "\n",
    "else:\n",
    "    print(listDay[day])\n",
    "\n",
    "\n"
   ]
  },
  {
   "attachments": {},
   "cell_type": "markdown",
   "metadata": {},
   "source": [
    "## 3. Animal Type"
   ]
  },
  {
   "cell_type": "code",
   "execution_count": 13,
   "metadata": {},
   "outputs": [
    {
     "name": "stdout",
     "output_type": "stream",
     "text": [
      "unknown\n"
     ]
    }
   ],
   "source": [
    "animal = input()\n",
    "\n",
    "listAnimal ={\"dog\": \"mammal\",\n",
    "             \"crocodile\": \"reptile\",\n",
    "             \"tortoise\": \"reptile\",\n",
    "             \"snake\": \"reptile\"}\n",
    "\n",
    "if animal not in listAnimal:\n",
    "    print(\"unknown\")\n",
    "else:\n",
    "    print(listAnimal[animal])"
   ]
  },
  {
   "attachments": {},
   "cell_type": "markdown",
   "metadata": {},
   "source": [
    "## 4. Personal Titles"
   ]
  },
  {
   "cell_type": "code",
   "execution_count": 17,
   "metadata": {},
   "outputs": [
    {
     "name": "stdout",
     "output_type": "stream",
     "text": [
      "Master\n"
     ]
    }
   ],
   "source": [
    "age = float(input())\n",
    "gender = input() # m or f\n",
    "\n",
    "if gender == \"m\":\n",
    "    if age < 16:\n",
    "        print(\"Master\")\n",
    "    else:\n",
    "        print(\"Mr.\")\n",
    "\n",
    "else:\n",
    "    if age < 16:\n",
    "        print(\"Miss\")\n",
    "    else:\n",
    "        print(\"Ms.\")    \n"
   ]
  },
  {
   "attachments": {},
   "cell_type": "markdown",
   "metadata": {},
   "source": [
    "## 5. Small Shop"
   ]
  },
  {
   "cell_type": "code",
   "execution_count": 28,
   "metadata": {},
   "outputs": [
    {
     "name": "stdout",
     "output_type": "stream",
     "text": [
      "3.2335\n"
     ]
    }
   ],
   "source": [
    "product = input()\n",
    "city = input().title()\n",
    "qty = float(input())\n",
    "\n",
    "if city == \"London\":\n",
    "    listProduct ={\"coffee\": 0.50,\n",
    "                  \"water\": 0.80,\n",
    "                  \"beer\": 1.20,\n",
    "                  \"sweets\": 1.45,\n",
    "                  \"peanuts\": 1.60}\n",
    "    \n",
    "elif city == \"Rome\":\n",
    "    listProduct ={\"coffee\": 0.40,\n",
    "                  \"water\": 0.70,\n",
    "                  \"beer\": 1.15,\n",
    "                  \"sweets\": 1.30,\n",
    "                  \"peanuts\": 1.50}\n",
    "elif city == \"Paris\":\n",
    "    listProduct ={\"coffee\": 0.45,\n",
    "                  \"water\": 0.70,\n",
    "                  \"beer\": 1.10,\n",
    "                  \"sweets\": 1.35,\n",
    "                  \"peanuts\": 1.55}\n",
    "else:\n",
    "    pass\n",
    "\n",
    "totalPrice = listProduct[product] * qty\n",
    "#print(f\"{totalPrice:.2f}\")\n",
    "print(totalPrice)"
   ]
  },
  {
   "attachments": {},
   "cell_type": "markdown",
   "metadata": {},
   "source": [
    "## 6. Number in Range"
   ]
  },
  {
   "cell_type": "code",
   "execution_count": 31,
   "metadata": {},
   "outputs": [
    {
     "name": "stdout",
     "output_type": "stream",
     "text": [
      "Yes\n"
     ]
    }
   ],
   "source": [
    "number = int(input())\n",
    "\n",
    "if (-100 <= number <= 100) and (number != 0) :\n",
    "    print(\"Yes\")\n",
    "else:\n",
    "    print(\"No\")"
   ]
  },
  {
   "attachments": {},
   "cell_type": "markdown",
   "metadata": {},
   "source": [
    "## 7. Working Hours"
   ]
  },
  {
   "cell_type": "code",
   "execution_count": 39,
   "metadata": {},
   "outputs": [
    {
     "name": "stdout",
     "output_type": "stream",
     "text": [
      "closed\n"
     ]
    }
   ],
   "source": [
    "hours = int(input())\n",
    "day = input().title()\n",
    "\n",
    "listWorkDay = [\"Monday\", \"Tuesday\", \"Wednesday\", \"Thursday\", \"Friday\", \"Saturday\"]\n",
    "\n",
    "if hours >= 10 and hours <=18 and day in listWorkDay:\n",
    "    print(\"open\")\n",
    "else:\n",
    "    print(\"closed\")"
   ]
  },
  {
   "attachments": {},
   "cell_type": "markdown",
   "metadata": {},
   "source": [
    "## 8. Cinema Ticket"
   ]
  },
  {
   "cell_type": "code",
   "execution_count": 46,
   "metadata": {},
   "outputs": [
    {
     "name": "stdout",
     "output_type": "stream",
     "text": [
      "16\n"
     ]
    }
   ],
   "source": [
    "day = input().title()\n",
    "\n",
    "if day == \"Monday\" or day == \"Tuesday\" or day == \"Friday\":\n",
    "    print(\"12\")\n",
    "elif day == \"Wednesday\" or day == \"Thursday\":\n",
    "    print(\"14\")\n",
    "else:\n",
    "    print(\"16\")"
   ]
  },
  {
   "attachments": {},
   "cell_type": "markdown",
   "metadata": {},
   "source": [
    "## 9. Fruit or Vegetable"
   ]
  },
  {
   "cell_type": "code",
   "execution_count": 51,
   "metadata": {},
   "outputs": [
    {
     "name": "stdout",
     "output_type": "stream",
     "text": [
      "unknown\n"
     ]
    }
   ],
   "source": [
    "productName = input()\n",
    "\n",
    "fruits = [\"banana\", \"apple\", \"kiwi\", \"cherry\", \"lemon\", \"grapes\"]\n",
    "vegetables = [\"tomato\", \"cucumber\", \"pepper\", \"carrot\"]\n",
    "\n",
    "if productName in fruits:\n",
    "    print(\"fruit\")\n",
    "elif productName in vegetables:\n",
    "    print(\"vegetable\")\n",
    "else:\n",
    "    print(\"unknown\")"
   ]
  },
  {
   "attachments": {},
   "cell_type": "markdown",
   "metadata": {},
   "source": [
    "## 10. Invalid Number"
   ]
  },
  {
   "cell_type": "code",
   "execution_count": 59,
   "metadata": {},
   "outputs": [],
   "source": [
    "numberInput = int(input())\n",
    "\n",
    "if numberInput >= 100 and numberInput <= 200 or numberInput == 0:\n",
    "    pass\n",
    "else:\n",
    "    print(\"invalid\")"
   ]
  },
  {
   "attachments": {},
   "cell_type": "markdown",
   "metadata": {},
   "source": [
    "## 11. Fruit Shop"
   ]
  },
  {
   "cell_type": "code",
   "execution_count": 75,
   "metadata": {},
   "outputs": [
    {
     "name": "stdout",
     "output_type": "stream",
     "text": [
      "8.80\n"
     ]
    }
   ],
   "source": [
    "fruitInput = input()\n",
    "dayInput = input().title()\n",
    "qty = float(input())\n",
    "\n",
    "weekdayList = [\"Monday\", \"Tuesday\", \"Wednesday\", \"Thrusday\", \"Friday\"]\n",
    "weekendList = [\"Saturday\", \"Sunday\"]\n",
    "\n",
    "fruitWeekDayList = {\"banana\":2.50, \n",
    "                    \"apple\":1.20, \n",
    "                    \"orange\":0.85, \n",
    "                    \"grapefruit\":1.45, \n",
    "                    \"kiwi\":2.70, \n",
    "                    \"pineapple\":5.50, \n",
    "                    \"grapes\":3.85}\n",
    "\n",
    "fruitWeekEndList = {\"banana\":2.70, \n",
    "                    \"apple\":1.25, \n",
    "                    \"orange\":0.90, \n",
    "                    \"grapefruit\":1.60, \n",
    "                    \"kiwi\":3.00, \n",
    "                    \"pineapple\":5.60, \n",
    "                    \"grapes\":4.20}\n",
    "\n",
    "if dayInput in weekdayList and fruitInput in fruitWeekDayList:\n",
    "    print(f\"{fruitWeekDayList[fruitInput] * qty:.2f}\")\n",
    "\n",
    "elif dayInput in weekendList and fruitInput in fruitWeekEndList:\n",
    "    print(f\"{fruitWeekEndList[fruitInput] * qty:.2f}\")\n",
    "\n",
    "else:\n",
    "    print(\"error\")"
   ]
  },
  {
   "attachments": {},
   "cell_type": "markdown",
   "metadata": {},
   "source": [
    "## 12. Trade Commissions"
   ]
  },
  {
   "cell_type": "code",
   "execution_count": 94,
   "metadata": {},
   "outputs": [
    {
     "name": "stdout",
     "output_type": "stream",
     "text": [
      "error\n"
     ]
    }
   ],
   "source": [
    "city = input().title()\n",
    "commissions = float(input())\n",
    "percentage = 0\n",
    "\n",
    "if city == \"London\":\n",
    "    if 0 <= commissions <= 500:\n",
    "        percentage = (5/100)\n",
    "    elif 500 < commissions <= 1000:\n",
    "        percentage = (7/100)\n",
    "    elif 100< commissions <= 10000:\n",
    "        percentage = (8/100)\n",
    "    elif commissions > 10000:\n",
    "        percentage = (12/100)\n",
    "    else:\n",
    "        print(\"error\")\n",
    "    #print(f\"{commissions*percentage:.2f}\")\n",
    "\n",
    "\n",
    "elif city == \"Paris\":\n",
    "    if 0 <= commissions <= 500:\n",
    "        percentage = (4.5/100)\n",
    "    elif 500 < commissions <= 1000:\n",
    "        percentage = (7.5/100)\n",
    "    elif 100< commissions <= 10000:\n",
    "        percentage = (10/100)\n",
    "    elif commissions > 10000:\n",
    "        percentage = (13/100)\n",
    "    else:\n",
    "        print(\"error\")\n",
    "    #print(f\"{commissions*percentage:.2f}\")\n",
    "\n",
    "elif city == \"Rome\":\n",
    "    if 0 <= commissions <= 500:\n",
    "        percentage = (5.5/100)\n",
    "    elif 500 < commissions <= 1000:\n",
    "        percentage = (8/100)\n",
    "    elif 100< commissions <= 10000:\n",
    "        percentage = (12/100)\n",
    "    elif commissions > 10000:\n",
    "        percentage = (14.5/100)\n",
    "    else:\n",
    "        print(\"error\")\n",
    "    #print(f\"{commissions*percentage:.2f}\")\n",
    "\n",
    "else:\n",
    "    print(\"error\")\n",
    "\n",
    "if (commissions > 0) and (city ==\"London\" or city ==\"Paris\" or city == \"Rome\"):\n",
    "    print(f\"{commissions*percentage:.2f}\")\n",
    "else:\n",
    "    pass"
   ]
  }
 ],
 "metadata": {
  "kernelspec": {
   "display_name": "base",
   "language": "python",
   "name": "python3"
  },
  "language_info": {
   "codemirror_mode": {
    "name": "ipython",
    "version": 3
   },
   "file_extension": ".py",
   "mimetype": "text/x-python",
   "name": "python",
   "nbconvert_exporter": "python",
   "pygments_lexer": "ipython3",
   "version": "3.8.5"
  },
  "orig_nbformat": 4
 },
 "nbformat": 4,
 "nbformat_minor": 2
}
