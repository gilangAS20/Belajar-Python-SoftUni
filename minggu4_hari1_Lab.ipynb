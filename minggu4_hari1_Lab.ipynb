{
 "cells": [
  {
   "attachments": {},
   "cell_type": "markdown",
   "metadata": {},
   "source": [
    "# Koding Lab Minggu 4 Hari 1"
   ]
  },
  {
   "attachments": {},
   "cell_type": "markdown",
   "metadata": {},
   "source": [
    "### 1. Numbers from 1 to 100"
   ]
  },
  {
   "cell_type": "code",
   "execution_count": 1,
   "metadata": {},
   "outputs": [
    {
     "name": "stdout",
     "output_type": "stream",
     "text": [
      "1\n",
      "2\n",
      "3\n",
      "4\n",
      "5\n",
      "6\n",
      "7\n",
      "8\n",
      "9\n",
      "10\n",
      "11\n",
      "12\n",
      "13\n",
      "14\n",
      "15\n",
      "16\n",
      "17\n",
      "18\n",
      "19\n",
      "20\n",
      "21\n",
      "22\n",
      "23\n",
      "24\n",
      "25\n",
      "26\n",
      "27\n",
      "28\n",
      "29\n",
      "30\n",
      "31\n",
      "32\n",
      "33\n",
      "34\n",
      "35\n",
      "36\n",
      "37\n",
      "38\n",
      "39\n",
      "40\n",
      "41\n",
      "42\n",
      "43\n",
      "44\n",
      "45\n",
      "46\n",
      "47\n",
      "48\n",
      "49\n",
      "50\n",
      "51\n",
      "52\n",
      "53\n",
      "54\n",
      "55\n",
      "56\n",
      "57\n",
      "58\n",
      "59\n",
      "60\n",
      "61\n",
      "62\n",
      "63\n",
      "64\n",
      "65\n",
      "66\n",
      "67\n",
      "68\n",
      "69\n",
      "70\n",
      "71\n",
      "72\n",
      "73\n",
      "74\n",
      "75\n",
      "76\n",
      "77\n",
      "78\n",
      "79\n",
      "80\n",
      "81\n",
      "82\n",
      "83\n",
      "84\n",
      "85\n",
      "86\n",
      "87\n",
      "88\n",
      "89\n",
      "90\n",
      "91\n",
      "92\n",
      "93\n",
      "94\n",
      "95\n",
      "96\n",
      "97\n",
      "98\n",
      "99\n",
      "100\n"
     ]
    }
   ],
   "source": [
    "for i in range(1, 100+1):\n",
    "    print(i)"
   ]
  },
  {
   "attachments": {},
   "cell_type": "markdown",
   "metadata": {},
   "source": [
    "### 2. Number 1...N with Step 3"
   ]
  },
  {
   "cell_type": "code",
   "execution_count": 4,
   "metadata": {},
   "outputs": [
    {
     "name": "stdout",
     "output_type": "stream",
     "text": [
      "1\n",
      "4\n",
      "7\n",
      "10\n",
      "13\n"
     ]
    }
   ],
   "source": [
    "number = int(input())\n",
    "for i in range(1, number+1, 3):\n",
    "    print(i)"
   ]
  },
  {
   "attachments": {},
   "cell_type": "markdown",
   "metadata": {},
   "source": [
    "### 3. Even Powers of 2"
   ]
  },
  {
   "cell_type": "code",
   "execution_count": 18,
   "metadata": {},
   "outputs": [
    {
     "name": "stdout",
     "output_type": "stream",
     "text": [
      "1\n",
      "4\n"
     ]
    }
   ],
   "source": [
    "number = int(input())\n",
    "total = 1\n",
    "for i in range(0, number+1, 2):\n",
    "    print(total)\n",
    "    total = total *2 *2 \n"
   ]
  },
  {
   "attachments": {},
   "cell_type": "markdown",
   "metadata": {},
   "source": [
    "### 4. Numbers N...1"
   ]
  },
  {
   "cell_type": "code",
   "execution_count": 19,
   "metadata": {},
   "outputs": [
    {
     "name": "stdout",
     "output_type": "stream",
     "text": [
      "3\n",
      "2\n",
      "1\n"
     ]
    }
   ],
   "source": [
    "number = int(input())\n",
    "for i in range(number, 0, -1):\n",
    "    print(i)"
   ]
  },
  {
   "attachments": {},
   "cell_type": "markdown",
   "metadata": {},
   "source": [
    "### 5. Character Sequence"
   ]
  },
  {
   "cell_type": "code",
   "execution_count": 29,
   "metadata": {},
   "outputs": [
    {
     "name": "stdout",
     "output_type": "stream",
     "text": [
      "s\n",
      "o\n",
      "f\n",
      "t\n",
      "u\n",
      "n\n",
      "i\n"
     ]
    }
   ],
   "source": [
    "inputText = input()\n",
    "for i in inputText:\n",
    "    print(i)"
   ]
  },
  {
   "attachments": {},
   "cell_type": "markdown",
   "metadata": {},
   "source": [
    "### 6. Vowels Sum"
   ]
  },
  {
   "cell_type": "code",
   "execution_count": 2,
   "metadata": {},
   "outputs": [
    {
     "name": "stdout",
     "output_type": "stream",
     "text": [
      "6\n"
     ]
    }
   ],
   "source": [
    "str = input()\n",
    "sum = 0\n",
    "for i in str:\n",
    "    if i == 'a':\n",
    "        sum = sum + 1\n",
    "    elif i == 'e':\n",
    "        sum = sum + 2\n",
    "    elif i == 'i':\n",
    "        sum = sum + 3\n",
    "    elif i == 'o':\n",
    "        sum = sum + 4\n",
    "    elif i == 'u':\n",
    "        sum = sum + 5\n",
    "print(sum)"
   ]
  },
  {
   "cell_type": "code",
   "execution_count": 1,
   "metadata": {},
   "outputs": [
    {
     "name": "stdout",
     "output_type": "stream",
     "text": [
      "6\n"
     ]
    }
   ],
   "source": [
    "inputan = input()\n",
    "sum = 0\n",
    "for i in inputan:\n",
    "    if i == 'a':\n",
    "        sum = sum + 1\n",
    "    elif i == 'e':\n",
    "        sum = sum + 2\n",
    "    elif i == 'i':\n",
    "        sum = sum + 3\n",
    "    elif i == 'o':\n",
    "        sum = sum + 4\n",
    "    elif i == 'u':\n",
    "        sum = sum + 5\n",
    "print(sum)"
   ]
  },
  {
   "cell_type": "code",
   "execution_count": 5,
   "metadata": {},
   "outputs": [
    {
     "name": "stdout",
     "output_type": "stream",
     "text": [
      "6\n"
     ]
    }
   ],
   "source": [
    "str = input()\n",
    "sum = 0\n",
    "for i in range(0, len(str)):\n",
    "    if str[i] == 'a':\n",
    "        sum = sum + 1\n",
    "    elif str[i] == 'e':\n",
    "        sum = sum + 2\n",
    "    elif str[i] == 'i':\n",
    "        sum = sum + 3\n",
    "    elif str[i] == 'o':\n",
    "        sum = sum + 4\n",
    "    elif str[i] == 'u':\n",
    "        sum = sum + 5\n",
    "print(sum)"
   ]
  },
  {
   "attachments": {},
   "cell_type": "markdown",
   "metadata": {},
   "source": [
    "### 7. Sum Numbers"
   ]
  },
  {
   "cell_type": "code",
   "execution_count": 7,
   "metadata": {},
   "outputs": [
    {
     "name": "stdout",
     "output_type": "stream",
     "text": [
      "-60\n"
     ]
    }
   ],
   "source": [
    "jumlahInput = int(input())\n",
    "total = 0\n",
    "for i in range(0, jumlahInput):\n",
    "    angka = int(input())\n",
    "    total = total + angka\n",
    "print(total)"
   ]
  },
  {
   "attachments": {},
   "cell_type": "markdown",
   "metadata": {},
   "source": [
    "### 8. Number Sequence"
   ]
  },
  {
   "cell_type": "code",
   "execution_count": 11,
   "metadata": {},
   "outputs": [
    {
     "name": "stdout",
     "output_type": "stream",
     "text": [
      "Max number: 304\n",
      "Min number: 0\n"
     ]
    }
   ],
   "source": [
    "jumlahInput = int(input())\n",
    "listAngka = []\n",
    "\n",
    "for i in range(0, jumlahInput):\n",
    "    angka = int(input())\n",
    "    listAngka.append(angka)\n",
    "\n",
    "print(\"Max number:\", max(listAngka))\n",
    "print(\"Min number:\", min(listAngka))"
   ]
  },
  {
   "attachments": {},
   "cell_type": "markdown",
   "metadata": {},
   "source": [
    "### 9. Left and Right Sum"
   ]
  },
  {
   "cell_type": "code",
   "execution_count": 16,
   "metadata": {},
   "outputs": [
    {
     "name": "stdout",
     "output_type": "stream",
     "text": [
      "No, diff = 1\n"
     ]
    }
   ],
   "source": [
    "inputan = int(input())\n",
    "leftNumber = 0\n",
    "rightNumber = 0\n",
    "\n",
    "for i in range(1, inputan+1):\n",
    "    angka = int(input())\n",
    "    leftNumber = leftNumber + angka\n",
    "\n",
    "for i in range(0, inputan):\n",
    "    angka = int(input())\n",
    "    rightNumber = rightNumber + angka\n",
    "\n",
    "if leftNumber == rightNumber:\n",
    "    print(f\"Yes, sum = {leftNumber}\")\n",
    "else:\n",
    "    print(f\"No, diff = {abs(leftNumber-rightNumber)}\")"
   ]
  },
  {
   "attachments": {},
   "cell_type": "markdown",
   "metadata": {},
   "source": [
    "### 10. Odd and Even Sum"
   ]
  },
  {
   "cell_type": "code",
   "execution_count": 24,
   "metadata": {},
   "outputs": [
    {
     "name": "stdout",
     "output_type": "stream",
     "text": [
      "No\n",
      "Diff = 2\n"
     ]
    }
   ],
   "source": [
    "jumlahAngka = int(input())\n",
    "oddSum = 0\n",
    "evenSum = 0\n",
    "\n",
    "for i in range(jumlahAngka):\n",
    "    angka = int(input())\n",
    "    if i % 2 == 0:\n",
    "        evenSum = evenSum + angka\n",
    "\n",
    "    else:\n",
    "        oddSum = oddSum + angka\n",
    "\n",
    "if oddSum == evenSum:\n",
    "    print(\"Yes\")\n",
    "    print(f\"Sum = {oddSum}\")\n",
    "else:\n",
    "    print(\"No\")\n",
    "    print(f\"Diff = {abs(oddSum-evenSum)}\")"
   ]
  }
 ],
 "metadata": {
  "kernelspec": {
   "display_name": "Python 3",
   "language": "python",
   "name": "python3"
  },
  "language_info": {
   "codemirror_mode": {
    "name": "ipython",
    "version": 3
   },
   "file_extension": ".py",
   "mimetype": "text/x-python",
   "name": "python",
   "nbconvert_exporter": "python",
   "pygments_lexer": "ipython3",
   "version": "3.8.5"
  },
  "orig_nbformat": 4
 },
 "nbformat": 4,
 "nbformat_minor": 2
}
