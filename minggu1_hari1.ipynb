{
 "cells": [
  {
   "attachments": {},
   "cell_type": "markdown",
   "metadata": {},
   "source": [
    "# Belajar Koding Python dari SoftUni"
   ]
  },
  {
   "attachments": {},
   "cell_type": "markdown",
   "metadata": {},
   "source": [
    "## 1. Latian Print"
   ]
  },
  {
   "cell_type": "code",
   "execution_count": 7,
   "metadata": {},
   "outputs": [
    {
     "name": "stdout",
     "output_type": "stream",
     "text": [
      "Hello SoftUni\n"
     ]
    }
   ],
   "source": [
    "print(\"Hello SoftUni\")"
   ]
  },
  {
   "cell_type": "code",
   "execution_count": 15,
   "metadata": {},
   "outputs": [
    {
     "name": "stdout",
     "output_type": "stream",
     "text": [
      "1\n",
      "2\n",
      "3\n",
      "4\n",
      "5\n",
      "6\n",
      "7\n",
      "8\n",
      "9\n",
      "10\n"
     ]
    }
   ],
   "source": [
    "print('1')\n",
    "print('2')\n",
    "print('3')\n",
    "print('4')\n",
    "print('5')\n",
    "print('6')\n",
    "print('7')\n",
    "print('8')\n",
    "print('9')\n",
    "print('10')"
   ]
  },
  {
   "cell_type": "code",
   "execution_count": 11,
   "metadata": {},
   "outputs": [
    {
     "name": "stdout",
     "output_type": "stream",
     "text": [
      "1\n",
      "2\n"
     ]
    }
   ],
   "source": []
  },
  {
   "attachments": {},
   "cell_type": "markdown",
   "metadata": {},
   "source": [
    "## 2. Data Type dan Variables"
   ]
  },
  {
   "attachments": {},
   "cell_type": "markdown",
   "metadata": {},
   "source": [
    "tipe data Integer"
   ]
  },
  {
   "cell_type": "code",
   "execution_count": 16,
   "metadata": {},
   "outputs": [
    {
     "name": "stdout",
     "output_type": "stream",
     "text": [
      "5\n"
     ]
    }
   ],
   "source": [
    "count = 5\n",
    "print(count)"
   ]
  },
  {
   "attachments": {},
   "cell_type": "markdown",
   "metadata": {},
   "source": [
    "tipe data Float"
   ]
  },
  {
   "cell_type": "code",
   "execution_count": 17,
   "metadata": {},
   "outputs": [
    {
     "name": "stdout",
     "output_type": "stream",
     "text": [
      "0.5\n"
     ]
    }
   ],
   "source": [
    "data_float = 0.5\n",
    "print(data_float)"
   ]
  },
  {
   "attachments": {},
   "cell_type": "markdown",
   "metadata": {},
   "source": [
    "inputan variables"
   ]
  },
  {
   "cell_type": "code",
   "execution_count": 21,
   "metadata": {},
   "outputs": [
    {
     "name": "stdout",
     "output_type": "stream",
     "text": [
      "silakan tuliskan nama Anda:\n",
      "halo gilang\n"
     ]
    }
   ],
   "source": [
    "print(\"silakan tuliskan nama Anda:\")\n",
    "nama = input()\n",
    "print(\"halo \"+nama)"
   ]
  },
  {
   "attachments": {},
   "cell_type": "markdown",
   "metadata": {},
   "source": [
    "Membaca Variabel Numbers"
   ]
  },
  {
   "cell_type": "code",
   "execution_count": 23,
   "metadata": {},
   "outputs": [
    {
     "name": "stdout",
     "output_type": "stream",
     "text": [
      "12.0\n"
     ]
    }
   ],
   "source": [
    "# bawaan input adalah string,\n",
    "# jika ingin jadi angka harus diconvert jadi int atau float\n",
    "data = input()\n",
    "num = float(data)"
   ]
  },
  {
   "attachments": {},
   "cell_type": "markdown",
   "metadata": {},
   "source": [
    "Hasilkan area persegi"
   ]
  },
  {
   "cell_type": "code",
   "execution_count": 25,
   "metadata": {},
   "outputs": [
    {
     "name": "stdout",
     "output_type": "stream",
     "text": [
      "25\n"
     ]
    }
   ],
   "source": [
    "panjang = input()\n",
    "panjang_angka = int(panjang)\n",
    "luas = panjang_angka * panjang_angka\n",
    "print(luas)"
   ]
  },
  {
   "attachments": {},
   "cell_type": "markdown",
   "metadata": {},
   "source": [
    "Convert inchi ke sentimeter"
   ]
  },
  {
   "cell_type": "code",
   "execution_count": 27,
   "metadata": {},
   "outputs": [
    {
     "name": "stdout",
     "output_type": "stream",
     "text": [
      "hasil convert dari 1  inchi =  2.54  cm\n"
     ]
    }
   ],
   "source": [
    "#convert inchi ke sentimeter\n",
    "pecahan = int(input(\"input pecahan: \"))\n",
    "hasil = pecahan * 2.54 # 1 inchi = 2.54 cm\n",
    "print(\"hasil convert dari\", pecahan, \" inchi = \", hasil,  \" cm\")"
   ]
  },
  {
   "cell_type": "code",
   "execution_count": 24,
   "metadata": {},
   "outputs": [
    {
     "name": "stdout",
     "output_type": "stream",
     "text": [
      "16\n"
     ]
    }
   ],
   "source": [
    "a = int(input())\n",
    "hasil = a * a\n",
    "print(hasil)"
   ]
  },
  {
   "cell_type": "code",
   "execution_count": 30,
   "metadata": {},
   "outputs": [
    {
     "name": "stdout",
     "output_type": "stream",
     "text": [
      "input nilai jari-jari lingkaran = \n",
      "314.0\n"
     ]
    }
   ],
   "source": [
    "print(\"input nilai jari-jari lingkaran = \")\n",
    "jari_jari = int(input())\n",
    "hasil = 3.14 * jari_jari**2\n",
    "print(hasil)"
   ]
  },
  {
   "attachments": {},
   "cell_type": "markdown",
   "metadata": {},
   "source": [
    "## 3. Operasi Matematika"
   ]
  },
  {
   "attachments": {},
   "cell_type": "markdown",
   "metadata": {},
   "source": [
    "### Perkenalan nama, penambahan kata dengan variabel"
   ]
  },
  {
   "cell_type": "code",
   "execution_count": 31,
   "metadata": {},
   "outputs": [
    {
     "name": "stdout",
     "output_type": "stream",
     "text": [
      "Hello, gilang\n"
     ]
    }
   ],
   "source": [
    "name = input()\n",
    "print(\"Hello, \", end ='') # end='' supaya tidak ada enter / tidak pindah baris\n",
    "print(name)"
   ]
  },
  {
   "cell_type": "code",
   "execution_count": 33,
   "metadata": {},
   "outputs": [
    {
     "name": "stdout",
     "output_type": "stream",
     "text": [
      "hello, gilang\n"
     ]
    }
   ],
   "source": [
    "name = input(\"masukkan namamu: \")\n",
    "print(\"hello, \" + name)"
   ]
  },
  {
   "attachments": {},
   "cell_type": "markdown",
   "metadata": {},
   "source": [
    "### Concate Text dan Number"
   ]
  },
  {
   "cell_type": "code",
   "execution_count": 42,
   "metadata": {},
   "outputs": [
    {
     "name": "stdout",
     "output_type": "stream",
     "text": [
      "1abcd\n",
      "12, gilang, agung\n"
     ]
    }
   ],
   "source": [
    "angka = 1\n",
    "strings = \"abcd\"\n",
    "print(str(angka) + strings)\n",
    "\n",
    "firstName = input()\n",
    "lastName = input()\n",
    "age = int(input())\n",
    "\n",
    "# interpolasi ubah angka jadi string dengan (f\"\")\n",
    "print(f\"{age}, {firstName}, {lastName}\")"
   ]
  },
  {
   "attachments": {},
   "cell_type": "markdown",
   "metadata": {},
   "source": [
    "Concate Text dan Number menggunakan operasi (+)"
   ]
  },
  {
   "cell_type": "code",
   "execution_count": 35,
   "metadata": {},
   "outputs": [
    {
     "name": "stdout",
     "output_type": "stream",
     "text": [
      "Nama saya adalah Gilang Agung, umur saya 21 tahun\n"
     ]
    }
   ],
   "source": [
    "nama_awal = input(\"Nama Awal: \")\n",
    "nama_akhir = input(\"Nama Akhir: \")\n",
    "umur = int(input(\"Umur: \"))\n",
    "hasil = \"Nama saya adalah \" + nama_awal + \" \" + nama_akhir + \", umur saya \" + str(umur) + \" tahun\"\n",
    "print(hasil)"
   ]
  },
  {
   "attachments": {},
   "cell_type": "markdown",
   "metadata": {},
   "source": [
    "Operasi (-)"
   ]
  },
  {
   "cell_type": "code",
   "execution_count": 40,
   "metadata": {},
   "outputs": [
    {
     "name": "stdout",
     "output_type": "stream",
     "text": [
      "Hasil penjumlahan:  5\n"
     ]
    }
   ],
   "source": [
    "angkaSatu = int(input(\"masukkan angka pertama: \"))\n",
    "angkaDua = int(input(\"Masukkan angka kedua: \"))\n",
    "hasil = angkaSatu + angkaDua\n",
    "print(\"Hasil penjumlahan: \", hasil)"
   ]
  },
  {
   "attachments": {},
   "cell_type": "markdown",
   "metadata": {},
   "source": [
    "Operasi bagi (/ atau //)"
   ]
  },
  {
   "cell_type": "code",
   "execution_count": null,
   "metadata": {},
   "outputs": [],
   "source": [
    "# operasi (/) akan menghasilkan float, sedangkan (//) akan menghasilkan integer"
   ]
  },
  {
   "attachments": {},
   "cell_type": "markdown",
   "metadata": {},
   "source": [
    "## 4. Menambahkan Library"
   ]
  },
  {
   "attachments": {},
   "cell_type": "markdown",
   "metadata": {},
   "source": [
    "Library ini sangat membantu untuk melakukan pengolahan yang sudah paten sehingga tidak perlu mengetiknya dari awal / manual"
   ]
  },
  {
   "cell_type": "code",
   "execution_count": 44,
   "metadata": {},
   "outputs": [],
   "source": [
    "import math\n",
    "import sys\n",
    "import math, sys"
   ]
  },
  {
   "attachments": {},
   "cell_type": "markdown",
   "metadata": {},
   "source": [
    "## Coba-coba"
   ]
  },
  {
   "cell_type": "code",
   "execution_count": null,
   "metadata": {},
   "outputs": [],
   "source": [
    "for i in range(a,b):\n",
    "    print(i)"
   ]
  },
  {
   "cell_type": "code",
   "execution_count": 6,
   "metadata": {},
   "outputs": [
    {
     "name": "stdout",
     "output_type": "stream",
     "text": [
      "Hasil penjumlahan:  5\n"
     ]
    }
   ],
   "source": [
    "#membuat variabel input angka\n",
    "angka1 = int(input(\"Masukkan angka1: \"))\n",
    "angka2 = int(input(\"Masukkan angka2: \"))\n",
    "\n",
    "#membuat variabel hasil\n",
    "hasil = angka1 + angka2\n",
    "print(\"Hasil penjumlahan: \", hasil)"
   ]
  },
  {
   "cell_type": "code",
   "execution_count": 1,
   "metadata": {},
   "outputs": [
    {
     "name": "stdout",
     "output_type": "stream",
     "text": [
      "hasil perkalian adalah: 6\n"
     ]
    }
   ],
   "source": [
    "panjang = int(input(\"Masukkan panjang: \"))\n",
    "lebar = int(input(\"Masukkan lebar: \"))\n",
    "hasil = panjang * lebar\n",
    "print(\"hasil perkalian adalah:\", hasil)"
   ]
  },
  {
   "cell_type": "code",
   "execution_count": 2,
   "metadata": {},
   "outputs": [
    {
     "name": "stdout",
     "output_type": "stream",
     "text": [
      "7.62\n"
     ]
    }
   ],
   "source": [
    "inches = float(input())\n",
    "centimeters = inches * 2.54\n",
    "print(centimeters)"
   ]
  },
  {
   "cell_type": "code",
   "execution_count": 5,
   "metadata": {},
   "outputs": [
    {
     "name": "stdout",
     "output_type": "stream",
     "text": [
      "Hello, gilang!\n"
     ]
    }
   ],
   "source": [
    "name = input()\n",
    "print(f\"Hello, {name}!\")"
   ]
  },
  {
   "cell_type": "code",
   "execution_count": 8,
   "metadata": {},
   "outputs": [
    {
     "name": "stdout",
     "output_type": "stream",
     "text": [
      "You are Gilang Agung, a 21-years old person from amb.\n"
     ]
    }
   ],
   "source": [
    "nama_awal = input()\n",
    "nama_akhir = input()\n",
    "umur = int(input())\n",
    "kota = input()\n",
    "result = (f\"You are {nama_awal} {nama_akhir}, a {umur}-years old person from {kota}.\")\n",
    "print(result)"
   ]
  },
  {
   "cell_type": "code",
   "execution_count": 11,
   "metadata": {},
   "outputs": [
    {
     "name": "stdout",
     "output_type": "stream",
     "text": [
      "The architect John will need 27 hours to complete 9 project/s.\n"
     ]
    }
   ],
   "source": [
    "nama_arsitek = input()\n",
    "jml_proyek = int(input())\n",
    "waktu_selesai = 3*jml_proyek\n",
    "hasil = (f\"The architect {nama_arsitek} will need {waktu_selesai} hours to complete {jml_proyek} project/s.\")\n",
    "print(hasil)"
   ]
  },
  {
   "cell_type": "code",
   "execution_count": 16,
   "metadata": {},
   "outputs": [
    {
     "name": "stdout",
     "output_type": "stream",
     "text": [
      "68.5 USD.\n"
     ]
    }
   ],
   "source": [
    "#PetShop\n",
    "harga_dog = float(input())*2.50\n",
    "harga_cat = float(input())*4\n",
    "total = harga_dog + harga_cat\n",
    "result = (f\"{total} USD.\")\n",
    "print(result)"
   ]
  },
  {
   "cell_type": "code",
   "execution_count": 2,
   "metadata": {},
   "outputs": [
    {
     "name": "stdout",
     "output_type": "stream",
     "text": [
      "The final price is: 936.03 USD.\n",
      "The discount is: 205.47 USD.\n"
     ]
    }
   ],
   "source": [
    "luas = int(input())\n",
    "harga_luas = luas * 7.61\n",
    "hasil_diskon = harga_luas * 0.18 #18%\n",
    "harga_final = harga_luas - hasil_diskon\n",
    "\n",
    "print(f\"The final price is: {harga_final} USD.\")\n",
    "print(f\"The discount is: {hasil_diskon} USD.\")"
   ]
  }
 ],
 "metadata": {
  "kernelspec": {
   "display_name": "base",
   "language": "python",
   "name": "python3"
  },
  "language_info": {
   "codemirror_mode": {
    "name": "ipython",
    "version": 3
   },
   "file_extension": ".py",
   "mimetype": "text/x-python",
   "name": "python",
   "nbconvert_exporter": "python",
   "pygments_lexer": "ipython3",
   "version": "3.8.5"
  },
  "orig_nbformat": 4,
  "vscode": {
   "interpreter": {
    "hash": "c42d99d755d00efaf066b964ceed011a4027ae5af520c8ef8190b9acee3a6094"
   }
  }
 },
 "nbformat": 4,
 "nbformat_minor": 2
}
