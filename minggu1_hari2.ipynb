{
 "cells": [
  {
   "attachments": {},
   "cell_type": "markdown",
   "metadata": {},
   "source": [
    "# Latian Soal Minggu 1 Hari 2"
   ]
  },
  {
   "attachments": {},
   "cell_type": "markdown",
   "metadata": {},
   "source": [
    "### 1. Converter: from USD to BGN"
   ]
  },
  {
   "cell_type": "code",
   "execution_count": 3,
   "metadata": {},
   "outputs": [
    {
     "name": "stdout",
     "output_type": "stream",
     "text": [
      "22.443625\n"
     ]
    }
   ],
   "source": [
    "#menulis program untuk convert mata uang USD ke BGN(Bulgarian Leva)\n",
    "usd = float(input())\n",
    "bgn = usd * 1.79549\n",
    "print(bgn)"
   ]
  },
  {
   "attachments": {},
   "cell_type": "markdown",
   "metadata": {},
   "source": [
    "### 2. Convertor: from radians to degrees"
   ]
  },
  {
   "cell_type": "code",
   "execution_count": 7,
   "metadata": {},
   "outputs": [
    {
     "name": "stdout",
     "output_type": "stream",
     "text": [
      "180.0004209182994\n"
     ]
    }
   ],
   "source": [
    "from math import pi\n",
    "\n",
    "radians = float(input())\n",
    "degrees = radians * 180 / pi\n",
    "print(degrees)"
   ]
  },
  {
   "attachments": {},
   "cell_type": "markdown",
   "metadata": {},
   "source": [
    "### 3. Deposit Calculator"
   ]
  },
  {
   "cell_type": "code",
   "execution_count": 11,
   "metadata": {},
   "outputs": [
    {
     "name": "stdout",
     "output_type": "stream",
     "text": [
      "164.50000000000003\n",
      "13.708333333333336\n",
      "2432.25\n"
     ]
    }
   ],
   "source": [
    "depo_amount = float(input())\n",
    "term_depo = int(input())\n",
    "annual_interest = float(input())\n",
    "\n",
    "accrued_interest = depo_amount * (annual_interest/100)\n",
    "interest_one_month = accrued_interest / 12\n",
    "total_amount = depo_amount + term_depo * interest_one_month\n",
    "\n",
    "print(total_amount)"
   ]
  }
 ],
 "metadata": {
  "kernelspec": {
   "display_name": "base",
   "language": "python",
   "name": "python3"
  },
  "language_info": {
   "codemirror_mode": {
    "name": "ipython",
    "version": 3
   },
   "file_extension": ".py",
   "mimetype": "text/x-python",
   "name": "python",
   "nbconvert_exporter": "python",
   "pygments_lexer": "ipython3",
   "version": "3.8.5"
  },
  "orig_nbformat": 4,
  "vscode": {
   "interpreter": {
    "hash": "c42d99d755d00efaf066b964ceed011a4027ae5af520c8ef8190b9acee3a6094"
   }
  }
 },
 "nbformat": 4,
 "nbformat_minor": 2
}
