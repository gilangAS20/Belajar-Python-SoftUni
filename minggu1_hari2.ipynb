{
 "cells": [
  {
   "attachments": {},
   "cell_type": "markdown",
   "metadata": {},
   "source": [
    "# Latian Soal Minggu 1 Hari 2"
   ]
  },
  {
   "attachments": {},
   "cell_type": "markdown",
   "metadata": {},
   "source": [
    "### 1. Converter: from USD to BGN"
   ]
  },
  {
   "cell_type": "code",
   "execution_count": 3,
   "metadata": {},
   "outputs": [
    {
     "name": "stdout",
     "output_type": "stream",
     "text": [
      "22.443625\n"
     ]
    }
   ],
   "source": [
    "#menulis program untuk convert mata uang USD ke BGN(Bulgarian Leva)\n",
    "usd = float(input())\n",
    "bgn = usd * 1.79549\n",
    "print(bgn)"
   ]
  },
  {
   "attachments": {},
   "cell_type": "markdown",
   "metadata": {},
   "source": [
    "### 2. Convertor: from radians to degrees"
   ]
  },
  {
   "cell_type": "code",
   "execution_count": 7,
   "metadata": {},
   "outputs": [
    {
     "name": "stdout",
     "output_type": "stream",
     "text": [
      "180.0004209182994\n"
     ]
    }
   ],
   "source": [
    "from math import pi\n",
    "\n",
    "radians = float(input())\n",
    "degrees = radians * 180 / pi\n",
    "print(degrees)"
   ]
  },
  {
   "attachments": {},
   "cell_type": "markdown",
   "metadata": {},
   "source": [
    "### 3. Deposit Calculator"
   ]
  },
  {
   "cell_type": "code",
   "execution_count": 11,
   "metadata": {},
   "outputs": [
    {
     "name": "stdout",
     "output_type": "stream",
     "text": [
      "164.50000000000003\n",
      "13.708333333333336\n",
      "2432.25\n"
     ]
    }
   ],
   "source": [
    "depo_amount = float(input())\n",
    "term_depo = int(input())\n",
    "annual_interest = float(input())\n",
    "\n",
    "accrued_interest = depo_amount * (annual_interest/100)\n",
    "interest_one_month = accrued_interest / 12\n",
    "total_amount = depo_amount + term_depo * interest_one_month\n",
    "\n",
    "print(total_amount)"
   ]
  },
  {
   "attachments": {},
   "cell_type": "markdown",
   "metadata": {},
   "source": [
    "### 4. Vacation Books List"
   ]
  },
  {
   "cell_type": "code",
   "execution_count": 14,
   "metadata": {},
   "outputs": [
    {
     "name": "stdout",
     "output_type": "stream",
     "text": [
      "7\n"
     ]
    }
   ],
   "source": [
    "numPages = int(input())\n",
    "readPerHour = int(input())\n",
    "numbDay = int(input())\n",
    "\n",
    "readTime = numPages / readPerHour\n",
    "totalTime = int(readTime / numbDay)\n",
    "print(totalTime)"
   ]
  },
  {
   "attachments": {},
   "cell_type": "markdown",
   "metadata": {},
   "source": [
    "### 5. Supplies for School"
   ]
  },
  {
   "cell_type": "code",
   "execution_count": 3,
   "metadata": {},
   "outputs": [
    {
     "name": "stdout",
     "output_type": "stream",
     "text": [
      "56.724000000000004\n"
     ]
    }
   ],
   "source": [
    "pack_pens = int(input()) * 5.80\n",
    "pack_markers = int(input()) * 7.20\n",
    "detergents = int(input()) * 1.20\n",
    "discount = int(input()) / 100\n",
    "price_all = pack_pens + pack_markers + detergents\n",
    "price_discount = price_all-(price_all * discount)\n",
    "print(price_discount) "
   ]
  },
  {
   "attachments": {},
   "cell_type": "markdown",
   "metadata": {},
   "source": [
    "### 6. Repainting"
   ]
  },
  {
   "cell_type": "code",
   "execution_count": 5,
   "metadata": {},
   "outputs": [
    {
     "name": "stdout",
     "output_type": "stream",
     "text": [
      "286.52\n"
     ]
    }
   ],
   "source": [
    "nylon = int(input())\n",
    "paint = int(input())\n",
    "detergent = int(input())\n",
    "hours = int(input())\n",
    "\n",
    "sum_nylon = (nylon+2) *1.50\n",
    "sum_paint = (paint + (paint * 10/100)) * 14.50\n",
    "sum_detergent = detergent * 5\n",
    "sum_bags = 0.40\n",
    "\n",
    "total_sum_materials = sum_nylon + sum_paint + sum_detergent + sum_bags\n",
    "sum_workers = (total_sum_materials * 30/100) * hours\n",
    "total_sum_all = total_sum_materials + sum_workers\n",
    "print(total_sum_all)"
   ]
  },
  {
   "attachments": {},
   "cell_type": "markdown",
   "metadata": {},
   "source": [
    "### 7. Food Delivery"
   ]
  },
  {
   "cell_type": "code",
   "execution_count": 7,
   "metadata": {},
   "outputs": [
    {
     "name": "stdout",
     "output_type": "stream",
     "text": [
      "202.72\n"
     ]
    }
   ],
   "source": [
    "chicken_menus = int(input()) * 10.35\n",
    "fish_menus = int(input()) * 12.40\n",
    "veg_menus = int(input()) * 8.15\n",
    "total_price_menus = chicken_menus + fish_menus + veg_menus\n",
    "dessert_price = (20/100) * total_price_menus\n",
    "deliv_price = 2.50\n",
    "\n",
    "total_price_all = total_price_menus + dessert_price + deliv_price\n",
    "print(total_price_all)"
   ]
  },
  {
   "attachments": {},
   "cell_type": "markdown",
   "metadata": {},
   "source": [
    "### 8. Basketball Equipment"
   ]
  },
  {
   "cell_type": "code",
   "execution_count": 9,
   "metadata": {},
   "outputs": [
    {
     "name": "stdout",
     "output_type": "stream",
     "text": [
      "1223.2\n"
     ]
    }
   ],
   "source": [
    "training_year = int(input())\n",
    "sneakers_price = training_year - (training_year * 40/100)\n",
    "a_sneakers_price = sneakers_price - (sneakers_price * 20/100)\n",
    "ball_price = 1/4 * a_sneakers_price\n",
    "acc_price = 1/5 * ball_price\n",
    "total = training_year + sneakers_price + a_sneakers_price + ball_price + acc_price\n",
    "print(total)"
   ]
  }
 ],
 "metadata": {
  "kernelspec": {
   "display_name": "base",
   "language": "python",
   "name": "python3"
  },
  "language_info": {
   "codemirror_mode": {
    "name": "ipython",
    "version": 3
   },
   "file_extension": ".py",
   "mimetype": "text/x-python",
   "name": "python",
   "nbconvert_exporter": "python",
   "pygments_lexer": "ipython3",
   "version": "3.8.5"
  },
  "orig_nbformat": 4,
  "vscode": {
   "interpreter": {
    "hash": "c42d99d755d00efaf066b964ceed011a4027ae5af520c8ef8190b9acee3a6094"
   }
  }
 },
 "nbformat": 4,
 "nbformat_minor": 2
}
