{
 "cells": [
  {
   "attachments": {},
   "cell_type": "markdown",
   "metadata": {},
   "source": [
    "# Minggu 4 Hari 1 (For Loop)"
   ]
  },
  {
   "attachments": {},
   "cell_type": "markdown",
   "metadata": {},
   "source": [
    "## Revision"
   ]
  },
  {
   "cell_type": "code",
   "execution_count": 1,
   "metadata": {},
   "outputs": [
    {
     "name": "stdout",
     "output_type": "stream",
     "text": [
      "False\n"
     ]
    }
   ],
   "source": [
    "print(not (5==5) and (4+1==5))"
   ]
  },
  {
   "cell_type": "code",
   "execution_count": 2,
   "metadata": {},
   "outputs": [
    {
     "name": "stdout",
     "output_type": "stream",
     "text": [
      "False\n"
     ]
    }
   ],
   "source": [
    "print(not (3==3) or (3==5))"
   ]
  },
  {
   "cell_type": "code",
   "execution_count": 3,
   "metadata": {},
   "outputs": [
    {
     "name": "stdout",
     "output_type": "stream",
     "text": [
      "True\n"
     ]
    }
   ],
   "source": [
    "print(not (3>5) or (1==1))"
   ]
  },
  {
   "cell_type": "code",
   "execution_count": 4,
   "metadata": {},
   "outputs": [
    {
     "name": "stdout",
     "output_type": "stream",
     "text": [
      "Larger than 1\n",
      "Less than 101\n",
      "Equal to 101\n"
     ]
    }
   ],
   "source": [
    "number = 101\n",
    "if number >= 1:\n",
    "    print(\"Larger than 1\")\n",
    "if number <= 101:\n",
    "    print(\"Less than 101\")\n",
    "    print(\"Equal to 101\")"
   ]
  },
  {
   "cell_type": "code",
   "execution_count": 6,
   "metadata": {},
   "outputs": [
    {
     "name": "stdout",
     "output_type": "stream",
     "text": [
      "anjay\n"
     ]
    }
   ],
   "source": [
    "role = \"Administrator\"\n",
    "password = \"SoftUni\"\n",
    "if role == \"SoftUni\":\n",
    "    if password == \"SoftUni\":\n",
    "        print(\"Welcome!\")"
   ]
  },
  {
   "attachments": {},
   "cell_type": "markdown",
   "metadata": {},
   "source": [
    "## Apa itu Loop?\n",
    "Loop adalah sesuatu yang sama yang diulang berkali-kali"
   ]
  },
  {
   "cell_type": "code",
   "execution_count": 18,
   "metadata": {},
   "outputs": [
    {
     "name": "stdout",
     "output_type": "stream",
     "text": [
      "1\n",
      "3\n",
      "5\n",
      "7\n",
      "9\n",
      "11\n"
     ]
    }
   ],
   "source": [
    "#              angka   | angka            |\n",
    "#              dimuali | akhir(end point) | increment-nya\n",
    "for i in range(   1,     12+1,                   2):\n",
    "    print(i)"
   ]
  },
  {
   "cell_type": "code",
   "execution_count": 26,
   "metadata": {},
   "outputs": [
    {
     "name": "stdout",
     "output_type": "stream",
     "text": [
      "12\n",
      "11\n",
      "10\n",
      "9\n",
      "8\n",
      "7\n",
      "6\n",
      "5\n",
      "4\n",
      "3\n",
      "2\n",
      "1\n"
     ]
    }
   ],
   "source": [
    "#              angka   | angka            |\n",
    "#              dimuali | akhir(end point) | increment-nya\n",
    "for i in range(12,          1-1,              -1):\n",
    "    print(i)"
   ]
  },
  {
   "cell_type": "code",
   "execution_count": 14,
   "metadata": {},
   "outputs": [
    {
     "name": "stdout",
     "output_type": "stream",
     "text": [
      "1\n",
      "2\n",
      "3\n",
      "4\n",
      "5\n",
      "6\n",
      "7\n",
      "8\n",
      "9\n",
      "10\n",
      "11\n",
      "12\n"
     ]
    }
   ],
   "source": [
    "for i in range(1,13): # range(1, 13) --> dimulai dari 1, di-print sebanyak 12 kali\n",
    "    print(i)"
   ]
  },
  {
   "attachments": {},
   "cell_type": "markdown",
   "metadata": {},
   "source": [
    "### Percobaan 1"
   ]
  },
  {
   "attachments": {},
   "cell_type": "markdown",
   "metadata": {},
   "source": [
    "input 10, dimulai dari angka 1, dan dilompati (setting step) sebanyak 3"
   ]
  },
  {
   "cell_type": "code",
   "execution_count": 29,
   "metadata": {},
   "outputs": [
    {
     "name": "stdout",
     "output_type": "stream",
     "text": [
      "1\n",
      "4\n",
      "7\n",
      "10\n"
     ]
    }
   ],
   "source": [
    "n = int(input())\n",
    "for i in range(1,n+1, 3):\n",
    "    print(i)"
   ]
  },
  {
   "attachments": {},
   "cell_type": "markdown",
   "metadata": {},
   "source": [
    "### Program 2 (Even Powers of 2)"
   ]
  },
  {
   "cell_type": "code",
   "execution_count": 36,
   "metadata": {},
   "outputs": [
    {
     "name": "stdout",
     "output_type": "stream",
     "text": [
      "1\n",
      "2\n",
      "4\n",
      "8\n",
      "16\n",
      "32\n",
      "64\n",
      "128\n",
      "256\n",
      "512\n",
      "1024\n"
     ]
    }
   ],
   "source": [
    "n = 10\n",
    "sum = 1\n",
    "for i in range(0, n+1, 1):\n",
    "    print(sum)\n",
    "    sum = sum * 2\n",
    "    "
   ]
  },
  {
   "cell_type": "code",
   "execution_count": 44,
   "metadata": {},
   "outputs": [
    {
     "name": "stdout",
     "output_type": "stream",
     "text": [
      "1 4 16 64 256 1024 "
     ]
    }
   ],
   "source": [
    "n = 10\n",
    "sum = 1\n",
    "for i in range(0, n+1, 2):\n",
    "    print(sum, end=\" \")\n",
    "    sum = sum * 2 * 2"
   ]
  },
  {
   "cell_type": "code",
   "execution_count": 47,
   "metadata": {},
   "outputs": [
    {
     "name": "stdout",
     "output_type": "stream",
     "text": [
      "1 4 16 64 256 1024 "
     ]
    }
   ],
   "source": [
    "import math\n",
    "n = 10\n",
    "sum = 1\n",
    "for i in range(0, 10+1, 2):\n",
    "    print(int(math.pow(2, i)), end=\" \")"
   ]
  },
  {
   "cell_type": "code",
   "execution_count": 34,
   "metadata": {},
   "outputs": [
    {
     "name": "stdout",
     "output_type": "stream",
     "text": [
      "1\n",
      "4\n",
      "16\n",
      "64\n",
      "256\n",
      "1024\n"
     ]
    }
   ],
   "source": [
    "n = 10\n",
    "\n",
    "for i in range(0, n+1, 2):\n",
    "    print(2**i)"
   ]
  },
  {
   "attachments": {},
   "cell_type": "markdown",
   "metadata": {},
   "source": [
    "### Program 3"
   ]
  },
  {
   "cell_type": "code",
   "execution_count": 48,
   "metadata": {},
   "outputs": [
    {
     "name": "stdout",
     "output_type": "stream",
     "text": [
      "10\n",
      "9\n",
      "8\n",
      "7\n",
      "6\n",
      "5\n",
      "4\n",
      "3\n",
      "2\n",
      "1\n"
     ]
    }
   ],
   "source": [
    "n = int(input())\n",
    "for i in range(n, 1-1, -1):\n",
    "    print(i)"
   ]
  },
  {
   "attachments": {},
   "cell_type": "markdown",
   "metadata": {},
   "source": [
    "## Working with String"
   ]
  },
  {
   "attachments": {},
   "cell_type": "markdown",
   "metadata": {},
   "source": [
    "Menghitung panjang string(jumlah karakter pada suatu string)"
   ]
  },
  {
   "cell_type": "code",
   "execution_count": 1,
   "metadata": {},
   "outputs": [
    {
     "name": "stdout",
     "output_type": "stream",
     "text": [
      "7\n"
     ]
    }
   ],
   "source": [
    "text = \"SoftUni\"\n",
    "length = len(text)\n",
    "print(length)"
   ]
  },
  {
   "cell_type": "code",
   "execution_count": 2,
   "metadata": {},
   "outputs": [
    {
     "name": "stdout",
     "output_type": "stream",
     "text": [
      "9\n"
     ]
    }
   ],
   "source": [
    "str = \"Indonesia\"\n",
    "print(len(str))"
   ]
  },
  {
   "attachments": {},
   "cell_type": "markdown",
   "metadata": {},
   "source": [
    "Mengambil karakter berdasarkan index (index dimulai dari 0)"
   ]
  },
  {
   "cell_type": "code",
   "execution_count": 4,
   "metadata": {},
   "outputs": [
    {
     "name": "stdout",
     "output_type": "stream",
     "text": [
      "S\n"
     ]
    }
   ],
   "source": [
    "text = \"SoftUni\"\n",
    "print(text[0])"
   ]
  },
  {
   "attachments": {},
   "cell_type": "markdown",
   "metadata": {},
   "source": [
    "buat inputan string, lalu tampilkan per karakternya"
   ]
  },
  {
   "cell_type": "code",
   "execution_count": 5,
   "metadata": {},
   "outputs": [
    {
     "name": "stdout",
     "output_type": "stream",
     "text": [
      "I\n",
      "n\n",
      "d\n",
      "o\n",
      "n\n",
      "e\n",
      "s\n",
      "i\n",
      "a\n"
     ]
    }
   ],
   "source": [
    "str = \"Indonesia\"\n",
    "for i in str:\n",
    "    print(i)"
   ]
  },
  {
   "cell_type": "code",
   "execution_count": 9,
   "metadata": {},
   "outputs": [
    {
     "name": "stdout",
     "output_type": "stream",
     "text": [
      "I\n",
      "n\n",
      "d\n",
      "o\n",
      "n\n",
      "e\n",
      "s\n",
      "i\n",
      "a\n"
     ]
    }
   ],
   "source": [
    "str = \"Indonesia\"\n",
    "for i in range(0, len(str)):\n",
    "    print(str[i])"
   ]
  },
  {
   "cell_type": "code",
   "execution_count": 8,
   "metadata": {},
   "outputs": [
    {
     "name": "stdout",
     "output_type": "stream",
     "text": [
      "I 0\n",
      "n 1\n",
      "d 2\n",
      "o 3\n",
      "n 4\n",
      "e 5\n",
      "s 6\n",
      "i 7\n",
      "a 8\n"
     ]
    }
   ],
   "source": [
    "str = \"Indonesia\"\n",
    "for i in range(0, len(str)):\n",
    "    print(str[i], end=\" \")\n",
    "    print(i)"
   ]
  },
  {
   "attachments": {},
   "cell_type": "markdown",
   "metadata": {},
   "source": [
    "### Problem: Vowels Sum\n",
    "Buat program yang menerima string \\\n",
    "a = 1, e = 2, i = 3, o = 4, u = 5"
   ]
  },
  {
   "cell_type": "code",
   "execution_count": 12,
   "metadata": {},
   "outputs": [
    {
     "name": "stdout",
     "output_type": "stream",
     "text": [
      "9\n"
     ]
    }
   ],
   "source": [
    "str = input()\n",
    "sum = 0\n",
    "for i in range(0, len(str)):\n",
    "    if str[i] == 'a':\n",
    "        sum = sum + 1\n",
    "    elif str[i] == 'e':\n",
    "        sum = sum + 2\n",
    "    elif str[i] == 'i':\n",
    "        sum = sum + 3\n",
    "    elif str[i] == 'o':\n",
    "        sum = sum + 4\n",
    "    elif str[i] == 'u':\n",
    "        sum = sum + 5\n",
    "\n",
    "print(sum)"
   ]
  },
  {
   "cell_type": "code",
   "execution_count": 15,
   "metadata": {},
   "outputs": [
    {
     "name": "stdout",
     "output_type": "stream",
     "text": [
      "9\n"
     ]
    }
   ],
   "source": [
    "str = input()\n",
    "sum = 0\n",
    "for i in str:\n",
    "    if i == 'a':\n",
    "        sum = sum + 1\n",
    "    elif i == 'e':\n",
    "        sum = sum + 2\n",
    "    elif i == 'i':\n",
    "        sum = sum + 3\n",
    "    elif i == 'o':\n",
    "        sum = sum + 4\n",
    "    elif i == 'u':\n",
    "        sum = sum + 5\n",
    "print(sum)"
   ]
  },
  {
   "attachments": {},
   "cell_type": "markdown",
   "metadata": {},
   "source": [
    "### Problem: Sum Numbers\n",
    "beri input berapa jumlah angka yang ingin ditotalkan, lalu masukkan\\\n",
    "angka yang akan ditotalkan"
   ]
  },
  {
   "cell_type": "code",
   "execution_count": 24,
   "metadata": {},
   "outputs": [
    {
     "name": "stdout",
     "output_type": "stream",
     "text": [
      "angka ke- 1 : 10\n",
      "angka ke- 2 : 20\n",
      "Total: 30\n"
     ]
    }
   ],
   "source": [
    "angka = int(input())\n",
    "total = 0\n",
    "for i in range(angka):\n",
    "    inputan = int(input())\n",
    "    total =  total + inputan\n",
    "    print(\"angka ke-\", i+1, \":\", inputan)\n",
    "print(\"Total:\", total)"
   ]
  },
  {
   "attachments": {},
   "cell_type": "markdown",
   "metadata": {},
   "source": [
    "### Problem: Number Sequence\n",
    "Buat program yang membaca n number of integers, kemudian print \\\n",
    "angka terbesar dan terkecilnya"
   ]
  },
  {
   "cell_type": "code",
   "execution_count": 28,
   "metadata": {},
   "outputs": [
    {
     "name": "stdout",
     "output_type": "stream",
     "text": [
      "max:  40\n",
      "min:  30\n"
     ]
    }
   ],
   "source": [
    "jumlahAngka = int(input())\n",
    "listAngka = []\n",
    "for i in range(jumlahAngka):\n",
    "    angka = int(input())\n",
    "    listAngka.append(angka)\n",
    "\n",
    "print(\"max: \", max(listAngka))\n",
    "print(\"min: \", min(listAngka))"
   ]
  },
  {
   "cell_type": "code",
   "execution_count": 31,
   "metadata": {},
   "outputs": [
    {
     "name": "stdout",
     "output_type": "stream",
     "text": [
      "biggest:  99\n",
      "smallest:  1\n"
     ]
    }
   ],
   "source": [
    "import sys\n",
    "n = int(input())\n",
    "\n",
    "biggest = -sys.maxsize\n",
    "smallest = sys.maxsize\n",
    "\n",
    "for i in range(1, n+1):\n",
    "    number = int(input())\n",
    "    if number > biggest:\n",
    "        biggest = number\n",
    "    if number < smallest:\n",
    "        smallest = number\n",
    "\n",
    "print(\"biggest: \", biggest)\n",
    "print(\"smallest: \", smallest)\n"
   ]
  },
  {
   "attachments": {},
   "cell_type": "markdown",
   "metadata": {},
   "source": [
    "### Problem: Left and Right Sum"
   ]
  },
  {
   "cell_type": "code",
   "execution_count": 34,
   "metadata": {},
   "outputs": [
    {
     "name": "stdout",
     "output_type": "stream",
     "text": [
      "No, diff =  1\n"
     ]
    }
   ],
   "source": [
    "n = int(input())\n",
    "leftGroup = 0\n",
    "rightGroup = 0\n",
    "for i in range(1, n+1):\n",
    "    number = int(input())\n",
    "    leftGroup = leftGroup + number\n",
    "\n",
    "for i in range(1, n+1):\n",
    "    number = int(input())\n",
    "    rightGroup = rightGroup + number\n",
    "\n",
    "if leftGroup == rightGroup:\n",
    "    print(\"Yes, sum = \", leftGroup)\n",
    "else:\n",
    "    print(\"No, diff = \", abs(leftGroup-rightGroup))"
   ]
  },
  {
   "attachments": {},
   "cell_type": "markdown",
   "metadata": {},
   "source": [
    "### Problem: Odd Even Sum"
   ]
  },
  {
   "cell_type": "code",
   "execution_count": 43,
   "metadata": {},
   "outputs": [
    {
     "name": "stdout",
     "output_type": "stream",
     "text": [
      "Yes, sum =  40\n"
     ]
    }
   ],
   "source": [
    "n = int(input())\n",
    "oddGroup = 0\n",
    "evenGroup = 0\n",
    "\n",
    "for i in range(1, n+1):\n",
    "    number = int(input())\n",
    "    if i % 2 == 0:\n",
    "        evenGroup = evenGroup + number\n",
    "    else:\n",
    "        oddGroup = oddGroup + number\n",
    "\n",
    "if oddGroup == evenGroup:\n",
    "    print(\"Yes, sum = \", oddGroup)\n",
    "else:\n",
    "    print(\"No, diff = \", abs(oddGroup-evenGroup))\n"
   ]
  }
 ],
 "metadata": {
  "kernelspec": {
   "display_name": "Python 3",
   "language": "python",
   "name": "python3"
  },
  "language_info": {
   "codemirror_mode": {
    "name": "ipython",
    "version": 3
   },
   "file_extension": ".py",
   "mimetype": "text/x-python",
   "name": "python",
   "nbconvert_exporter": "python",
   "pygments_lexer": "ipython3",
   "version": "3.9.5"
  },
  "orig_nbformat": 4
 },
 "nbformat": 4,
 "nbformat_minor": 2
}
