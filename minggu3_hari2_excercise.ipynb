{
 "cells": [
  {
   "attachments": {},
   "cell_type": "markdown",
   "metadata": {},
   "source": [
    "# Minggu 3 Hari 1 (Excercise)"
   ]
  },
  {
   "attachments": {},
   "cell_type": "markdown",
   "metadata": {},
   "source": [
    "## 1. Cinema"
   ]
  },
  {
   "cell_type": "code",
   "execution_count": 6,
   "metadata": {},
   "outputs": [
    {
     "name": "stdout",
     "output_type": "stream",
     "text": [
      "1800.00 USD\n"
     ]
    }
   ],
   "source": [
    "screenType = input().title()\n",
    "rowNum = int(input())\n",
    "colNum = int(input())\n",
    "cinemaCapacity = rowNum * colNum\n",
    "\n",
    "screenTypeList = {\"Premiere\": 12.00, \n",
    "                  \"Normal\":7.50, \n",
    "                  \"Discount\":5.00}\n",
    "\n",
    "totalRevenue = screenTypeList[screenType] * cinemaCapacity\n",
    "print(f\"{totalRevenue:.2f} USD\")"
   ]
  },
  {
   "attachments": {},
   "cell_type": "markdown",
   "metadata": {},
   "source": [
    "## 2. Summer Outfit"
   ]
  },
  {
   "cell_type": "code",
   "execution_count": null,
   "metadata": {},
   "outputs": [],
   "source": []
  }
 ],
 "metadata": {
  "kernelspec": {
   "display_name": "base",
   "language": "python",
   "name": "python3"
  },
  "language_info": {
   "codemirror_mode": {
    "name": "ipython",
    "version": 3
   },
   "file_extension": ".py",
   "mimetype": "text/x-python",
   "name": "python",
   "nbconvert_exporter": "python",
   "pygments_lexer": "ipython3",
   "version": "3.8.5"
  },
  "orig_nbformat": 4
 },
 "nbformat": 4,
 "nbformat_minor": 2
}
