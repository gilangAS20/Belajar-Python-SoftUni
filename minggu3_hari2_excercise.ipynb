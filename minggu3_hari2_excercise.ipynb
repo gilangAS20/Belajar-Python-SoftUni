{
 "cells": [
  {
   "attachments": {},
   "cell_type": "markdown",
   "metadata": {},
   "source": [
    "# Minggu 3 Hari 1 (Excercise)"
   ]
  },
  {
   "attachments": {},
   "cell_type": "markdown",
   "metadata": {},
   "source": [
    "## 1. Cinema"
   ]
  },
  {
   "cell_type": "code",
   "execution_count": 6,
   "metadata": {},
   "outputs": [
    {
     "name": "stdout",
     "output_type": "stream",
     "text": [
      "1800.00 USD\n"
     ]
    }
   ],
   "source": [
    "screenType = input().title()\n",
    "rowNum = int(input())\n",
    "colNum = int(input())\n",
    "cinemaCapacity = rowNum * colNum\n",
    "\n",
    "screenTypeList = {\"Premiere\": 12.00, \n",
    "                  \"Normal\":7.50, \n",
    "                  \"Discount\":5.00}\n",
    "\n",
    "totalRevenue = screenTypeList[screenType] * cinemaCapacity\n",
    "print(f\"{totalRevenue:.2f} USD\")"
   ]
  },
  {
   "attachments": {},
   "cell_type": "markdown",
   "metadata": {},
   "source": [
    "## 2. Summer Outfit"
   ]
  },
  {
   "cell_type": "code",
   "execution_count": 2,
   "metadata": {},
   "outputs": [
    {
     "name": "stdout",
     "output_type": "stream",
     "text": [
      "It's 22 degrees, get your T-Shirt and Sandals.\n"
     ]
    }
   ],
   "source": [
    "degrees = int(input())\n",
    "dayTime = input().title()\n",
    "outfit = \"\"\n",
    "shoes = \"\"\n",
    "\n",
    "if dayTime == \"Morning\":\n",
    "    if degrees >= 10 and degrees <=18:\n",
    "        outfit = \"Sweatshirt\"\n",
    "        shoes = \"Sneakers\"\n",
    "    elif degrees > 18 and degrees <= 24:\n",
    "        outfit = \"Shirt\"\n",
    "        shoes = \"Moccasins\"\n",
    "    elif degrees >= 25:\n",
    "        outfit = \"T-Shirt\"\n",
    "        shoes = \"Sandals\"\n",
    "\n",
    "elif dayTime == \"Afternoon\":\n",
    "    if degrees >= 10 and degrees <=18:\n",
    "        outfit = \"Shirt\"\n",
    "        shoes = \"Moccasins\"\n",
    "    elif degrees > 18 and degrees <= 24:\n",
    "        outfit = \"T-Shirt\"\n",
    "        shoes = \"Sandals\"\n",
    "    elif degrees >= 25:\n",
    "        outfit = \"Swim Suit\"\n",
    "        shoes = \"Barefoot\"\n",
    "\n",
    "elif dayTime == \"Evening\":\n",
    "    if degrees >= 10 and degrees <=18:\n",
    "        outfit = \"Shirt\"\n",
    "        shoes = \"Moccasins\"\n",
    "    elif degrees > 18 and degrees <= 24:\n",
    "        outfit = \"Shirt\"\n",
    "        shoes = \"Moccasins\"\n",
    "    elif degrees >= 25:\n",
    "        outfit = \"Shirt\"\n",
    "        shoes = \"Moccasins\"\n",
    "\n",
    "print(f\"It's {degrees} degrees, get your {outfit} and {shoes}.\")  "
   ]
  },
  {
   "attachments": {},
   "cell_type": "markdown",
   "metadata": {},
   "source": [
    "## 3. New House"
   ]
  },
  {
   "cell_type": "code",
   "execution_count": 11,
   "metadata": {},
   "outputs": [
    {
     "name": "stdout",
     "output_type": "stream",
     "text": [
      "Hey, you have a great garden with 112 Dahlias and 98.24 USD left.\n"
     ]
    }
   ],
   "source": [
    "flowerType = input().title()\n",
    "flowerNum = int(input())\n",
    "budget = int(input())\n",
    "\n",
    "rosesPrice = 5\n",
    "dahliasPrice = 3.80\n",
    "tulipsPrice = 2.80\n",
    "narciccusPrice = 3\n",
    "gladiolusPrice = 2.50\n",
    "\n",
    "totalPrice = 0\n",
    "#change =  budget - totalPrice\n",
    "\n",
    "if flowerType == \"Roses\":\n",
    "    if flowerNum > 80:\n",
    "        totalPrice = (flowerNum * rosesPrice) - ((flowerNum * rosesPrice) * (10/100))\n",
    "    else:\n",
    "        totalPrice = (flowerNum * rosesPrice)\n",
    "\n",
    "elif flowerType == \"Dahlias\":\n",
    "    if flowerNum > 90:\n",
    "        totalPrice = (flowerNum * dahliasPrice) - ((flowerNum * dahliasPrice) * (15/100))\n",
    "    else:\n",
    "        totalPrice = (flowerNum * dahliasPrice)  \n",
    "\n",
    "elif flowerType == \"Tulips\":\n",
    "    if flowerNum > 80:\n",
    "        totalPrice = (flowerNum * tulipsPrice) - ((flowerNum * tulipsPrice) * (15/100))\n",
    "    else:\n",
    "        totalPrice = (flowerNum * tulipsPrice)  \n",
    "\n",
    "elif flowerType == \"Narcissus\":\n",
    "    if flowerNum < 120:\n",
    "        totalPrice = (flowerNum * narciccusPrice) + ((flowerNum * narciccusPrice) * (15/100))\n",
    "    else:\n",
    "        totalPrice = (flowerNum * narciccusPrice)\n",
    "\n",
    "elif flowerType == \"Gladiolus\":\n",
    "    if flowerNum < 80:\n",
    "        totalPrice = (flowerNum * gladiolusPrice) + ((flowerNum * gladiolusPrice) * (20/100))\n",
    "    else:\n",
    "        totalPrice = (flowerNum * gladiolusPrice)      \n",
    "\n",
    "change =  budget - totalPrice\n",
    "\n",
    "if change >= 0:\n",
    "    print(f\"Hey, you have a great garden with {flowerNum} {flowerType} and {change:.2f} USD left.\")\n",
    "else:\n",
    "    print(f\"Not enough money, you need {(change*-1):.2f} USD more.\")"
   ]
  },
  {
   "cell_type": "code",
   "execution_count": null,
   "metadata": {},
   "outputs": [],
   "source": []
  },
  {
   "attachments": {},
   "cell_type": "markdown",
   "metadata": {},
   "source": [
    "## 4. Fishing Boat"
   ]
  },
  {
   "cell_type": "code",
   "execution_count": 17,
   "metadata": {},
   "outputs": [
    {
     "name": "stdout",
     "output_type": "stream",
     "text": [
      "Yes! You have 50.00 USD left.\n"
     ]
    }
   ],
   "source": [
    "budget = int(input())\n",
    "season = input().lower()\n",
    "fishermenNum = int(input())\n",
    "\n",
    "if season == 'spring':\n",
    "    rentalPrice = 3000\n",
    "elif season == 'summer' or season == 'autumn':\n",
    "    rentalPrice = 4200\n",
    "elif season == 'winter':\n",
    "    rentalPrice = 2600\n",
    "\n",
    "if fishermenNum <= 6:\n",
    "    rentalPrice = rentalPrice * 0.90\n",
    "elif fishermenNum > 6 and fishermenNum <= 11:\n",
    "    rentalPrice = rentalPrice * 0.85\n",
    "elif fishermenNum > 11:\n",
    "    rentalPrice = rentalPrice * 0.75\n",
    "\n",
    "if season != 'autumn' and fishermenNum % 2 == 0:\n",
    "    rentalPrice = rentalPrice *0.95\n",
    "\n",
    "change = budget - rentalPrice\n",
    "\n",
    "if change >= 0:\n",
    "    print(f\"Yes! You have {change:.2f} USD left.\")\n",
    "else:\n",
    "    print(f\"Not enough money! You need {change*-1:.2f} USD.\")\n"
   ]
  },
  {
   "cell_type": "code",
   "execution_count": 14,
   "metadata": {},
   "outputs": [
    {
     "name": "stdout",
     "output_type": "stream",
     "text": [
      "Yes! You have 50.00 USD left.\n"
     ]
    }
   ],
   "source": [
    "budget = int(input())\n",
    "season = input().lower()\n",
    "people = int(input())\n",
    "\n",
    "if season == 'spring':\n",
    "    rental = 3000\n",
    "elif season == 'autumn' or season == 'summer':\n",
    "    rental = 4200\n",
    "elif season == 'winter':\n",
    "    rental = 2600\n",
    "\n",
    "if people <= 6:\n",
    "    disc = 0.10\n",
    "elif people <= 11:\n",
    "    disc = 0.15\n",
    "else:\n",
    "    disc = 0.25\n",
    "\n",
    "total = rental * (1 - disc)\n",
    "\n",
    "if budget < total:\n",
    "    print(f'Not enough money! You need {total - budget:.2f} USD.')\n",
    "else:\n",
    "    print(f'Yes! You have {budget-total:.2f} '\n",
    "          f'USD left.')\n"
   ]
  },
  {
   "attachments": {},
   "cell_type": "markdown",
   "metadata": {},
   "source": [
    "## 5. Journey"
   ]
  },
  {
   "cell_type": "code",
   "execution_count": 14,
   "metadata": {},
   "outputs": [
    {
     "name": "stdout",
     "output_type": "stream",
     "text": [
      "Somewhere in Europe\n",
      "Hotel - 1350.00\n"
     ]
    }
   ],
   "source": [
    "budget = float(input())\n",
    "season = input().lower() # hanya summer atau winter\n",
    "cost = 0\n",
    "if budget <= 100:\n",
    "    if season == 'summer':\n",
    "        cost = budget * 0.30\n",
    "        print(f\"Somewhere in Bulgaria\")\n",
    "        print(f\"Camp - {cost:.2f}\")\n",
    "    elif season == 'winter':\n",
    "        cost = budget * 0.70\n",
    "        print(f\"Somewhere in Bulgaria\")\n",
    "        print(f\"Hotel - {cost:.2f}\")\n",
    "\n",
    "elif budget <= 1000:\n",
    "    if season == 'summer':\n",
    "        cost = budget * 0.40\n",
    "        print(f\"Somewhere in Balkans\")\n",
    "        print(f\"Camp - {cost:.2f}\")\n",
    "    elif season == 'winter':\n",
    "        cost = budget * 0.80\n",
    "        print(f\"Somewhere in Balkans\")\n",
    "        print(f\"Hotel - {cost:.2f}\")\n",
    "\n",
    "elif budget > 1000:\n",
    "    cost = budget * 0.90\n",
    "    print(f\"Somewhere in Europe\")\n",
    "    print(f\"Hotel - {cost:.2f}\")"
   ]
  },
  {
   "attachments": {},
   "cell_type": "markdown",
   "metadata": {},
   "source": [
    "## 6. Operations Between Numbers"
   ]
  },
  {
   "cell_type": "code",
   "execution_count": 36,
   "metadata": {},
   "outputs": [
    {
     "name": "stdout",
     "output_type": "stream",
     "text": [
      "Cannot divide 10 by zero\n"
     ]
    }
   ],
   "source": [
    "numberOne = int(input())\n",
    "numberTwo = int(input())\n",
    "operator = input()\n",
    "\n",
    "if operator == '+':\n",
    "    result = numberOne + numberTwo\n",
    "    if result % 2 == 0:\n",
    "        print(f\"{numberOne} + {numberTwo} = {result} - even\")\n",
    "    else:\n",
    "        print(f\"{numberOne} + {numberTwo} = {result} - odd\")\n",
    "\n",
    "elif operator == '-':\n",
    "    result = numberOne - numberTwo\n",
    "    if result % 2 == 0:\n",
    "        print(f\"{numberOne} - {numberTwo} = {result} - even\")\n",
    "    else:\n",
    "        print(f\"{numberOne} - {numberTwo} = {result} - odd\")\n",
    "\n",
    "elif operator == '*':\n",
    "    result = numberOne * numberTwo\n",
    "    if result % 2 == 0:\n",
    "        print(f\"{numberOne} * {numberTwo} = {result} - even\")\n",
    "    else:\n",
    "        print(f\"{numberOne} * {numberTwo} = {result} - odd\")  \n",
    "\n",
    "elif operator ==  '/':\n",
    "    if numberTwo == 0:\n",
    "        print(f\"Cannot divide {numberOne} by zero\")\n",
    "    else:\n",
    "        result = numberOne / numberTwo\n",
    "        print(f\"{numberOne} / {numberTwo} = {result:.2f}\")\n",
    "\n",
    "elif operator == '%':\n",
    "    if numberTwo == 0:\n",
    "        print(f\"Cannot divide {numberOne} by zero\")\n",
    "    else:\n",
    "        result = numberOne % numberTwo\n",
    "        print(f\"{numberOne} % {numberTwo} = {result}\")"
   ]
  },
  {
   "attachments": {},
   "cell_type": "markdown",
   "metadata": {},
   "source": [
    "## 7. Hotel Room"
   ]
  },
  {
   "cell_type": "code",
   "execution_count": 44,
   "metadata": {},
   "outputs": [
    {
     "name": "stdout",
     "output_type": "stream",
     "text": [
      "Apartment: 1386.00 USD.\n",
      "Studio: 1520.00 USD.\n"
     ]
    }
   ],
   "source": [
    "month = input().lower()\n",
    "night = int(input())\n",
    "\n",
    "if month == 'may'or month == 'october':\n",
    "    studio = 50\n",
    "    apart = 65\n",
    "    if night > 7 and night <= 14:\n",
    "        studio = studio * 0.95\n",
    "    elif night > 14:\n",
    "        studio = studio * 0.70\n",
    "\n",
    "elif month == 'june' or month == 'september':\n",
    "    studio = 75.20\n",
    "    apart = 68.70\n",
    "    if night > 14:\n",
    "        studio = studio * 0.80\n",
    "\n",
    "elif month == 'july' or month =='august':\n",
    "    studio = 76\n",
    "    apart = 77\n",
    "\n",
    "if night > 14:\n",
    "    apart = apart *0.90\n",
    "    \n",
    "print(f\"Apartment: {apart * night:.2f} USD.\")\n",
    "print(f\"Studio: {studio * night:.2f} USD.\")\n"
   ]
  },
  {
   "attachments": {},
   "cell_type": "markdown",
   "metadata": {},
   "source": [
    "## 8. On Time for the Exam"
   ]
  },
  {
   "cell_type": "code",
   "execution_count": 62,
   "metadata": {},
   "outputs": [
    {
     "name": "stdout",
     "output_type": "stream",
     "text": [
      "Late\n",
      "59 minutes after the start\n"
     ]
    }
   ],
   "source": [
    "h_exam = int(input())\n",
    "m_exam = int(input())\n",
    "h_arrive = int(input())\n",
    "m_arrive = int(input())\n",
    "\n",
    "t_exam = (h_exam * 60) + m_exam\n",
    "t_arrive = h_arrive * 60 + m_arrive\n",
    "\n",
    "result = t_arrive - t_exam\n",
    "\n",
    "if result > 0 and result <= 30:\n",
    "    print(\"Late\")\n",
    "    print(f\"{abs(result)} minutes after the start\")\n",
    "\n",
    "elif result >= -30 and result <=0 and result != 0:\n",
    "    print(\"On time\")\n",
    "    print(f\"{abs(result)} minutes before the start\")\n",
    "\n",
    "elif result == 0:\n",
    "    print(\"On time\")\n",
    "\n",
    "elif result < -30:\n",
    "    if abs(result) < 60:\n",
    "        print(\"Early\")\n",
    "        print(f\"{abs(result)} minutes before the start\")\n",
    "    else:\n",
    "        print(\"Early\")\n",
    "        print(f\"{abs(result)//60}:{abs(result)%60:02d} hours before the start\")\n",
    "\n",
    "else:\n",
    "    if abs(result) < 60:\n",
    "        print(\"Late\")\n",
    "        print(f\"{abs(result)} minutes after the start\")\n",
    "    else:\n",
    "        print(\"Late\")\n",
    "        print(f\"{abs(result)//60}:{abs(result)%60:02d} hours after the start\")    \n",
    "\n",
    "\n"
   ]
  },
  {
   "attachments": {},
   "cell_type": "markdown",
   "metadata": {},
   "source": [
    "## 9. Ski Trip"
   ]
  },
  {
   "attachments": {},
   "cell_type": "markdown",
   "metadata": {},
   "source": [
    "masih salah komendan, perlu dibetulkan lagi"
   ]
  },
  {
   "cell_type": "code",
   "execution_count": 68,
   "metadata": {},
   "outputs": [
    {
     "name": "stdout",
     "output_type": "stream",
     "text": [
      "304.69\n"
     ]
    }
   ],
   "source": [
    "roomCost = 18\n",
    "apartmentCost = 25\n",
    "presidentCost = 35\n",
    "\n",
    "days = int(input())\n",
    "room = input().lower()\n",
    "grade = input().lower()\n",
    "\n",
    "if room == 'room for one person':\n",
    "    cost = roomCost\n",
    "    discount = 0\n",
    "\n",
    "elif room == 'apartment':\n",
    "    cost = apartmentCost\n",
    "    if days < 10:\n",
    "        discount = 0.30\n",
    "    elif days >= 10 and days <= 15:\n",
    "        discount = 0.35\n",
    "    elif days > 15:\n",
    "        discount = 0.50\n",
    "\n",
    "elif room == 'president apartment':\n",
    "    cost = presidentCost\n",
    "    if days < 10:\n",
    "        discount = 0.10\n",
    "    elif days >= 10 and days <= 15:\n",
    "        discount = 0.15\n",
    "    elif days > 15:\n",
    "        discount = 0.20\n",
    "\n",
    "if grade == 'positive':\n",
    "    add_disc = 0.25\n",
    "elif grade == 'negative':\n",
    "    add_disc = -0.10\n",
    "\n",
    "total = (days -1) * cost * (1-disc)\n",
    "total = total +(add_disc * total)\n",
    "print(f\"{total:.2f}\")\n"
   ]
  }
 ],
 "metadata": {
  "kernelspec": {
   "display_name": "base",
   "language": "python",
   "name": "python3"
  },
  "language_info": {
   "codemirror_mode": {
    "name": "ipython",
    "version": 3
   },
   "file_extension": ".py",
   "mimetype": "text/x-python",
   "name": "python",
   "nbconvert_exporter": "python",
   "pygments_lexer": "ipython3",
   "version": "3.8.5"
  },
  "orig_nbformat": 4
 },
 "nbformat": 4,
 "nbformat_minor": 2
}
