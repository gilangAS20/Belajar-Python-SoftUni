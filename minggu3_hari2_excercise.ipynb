{
 "cells": [
  {
   "attachments": {},
   "cell_type": "markdown",
   "metadata": {},
   "source": [
    "# Minggu 3 Hari 1 (Excercise)"
   ]
  },
  {
   "attachments": {},
   "cell_type": "markdown",
   "metadata": {},
   "source": [
    "## 1. Cinema"
   ]
  },
  {
   "cell_type": "code",
   "execution_count": 6,
   "metadata": {},
   "outputs": [
    {
     "name": "stdout",
     "output_type": "stream",
     "text": [
      "1800.00 USD\n"
     ]
    }
   ],
   "source": [
    "screenType = input().title()\n",
    "rowNum = int(input())\n",
    "colNum = int(input())\n",
    "cinemaCapacity = rowNum * colNum\n",
    "\n",
    "screenTypeList = {\"Premiere\": 12.00, \n",
    "                  \"Normal\":7.50, \n",
    "                  \"Discount\":5.00}\n",
    "\n",
    "totalRevenue = screenTypeList[screenType] * cinemaCapacity\n",
    "print(f\"{totalRevenue:.2f} USD\")"
   ]
  },
  {
   "attachments": {},
   "cell_type": "markdown",
   "metadata": {},
   "source": [
    "## 2. Summer Outfit"
   ]
  },
  {
   "cell_type": "code",
   "execution_count": 2,
   "metadata": {},
   "outputs": [
    {
     "name": "stdout",
     "output_type": "stream",
     "text": [
      "It's 22 degrees, get your T-Shirt and Sandals.\n"
     ]
    }
   ],
   "source": [
    "degrees = int(input())\n",
    "dayTime = input().title()\n",
    "outfit = \"\"\n",
    "shoes = \"\"\n",
    "\n",
    "if dayTime == \"Morning\":\n",
    "    if degrees >= 10 and degrees <=18:\n",
    "        outfit = \"Sweatshirt\"\n",
    "        shoes = \"Sneakers\"\n",
    "    elif degrees > 18 and degrees <= 24:\n",
    "        outfit = \"Shirt\"\n",
    "        shoes = \"Moccasins\"\n",
    "    elif degrees >= 25:\n",
    "        outfit = \"T-Shirt\"\n",
    "        shoes = \"Sandals\"\n",
    "\n",
    "elif dayTime == \"Afternoon\":\n",
    "    if degrees >= 10 and degrees <=18:\n",
    "        outfit = \"Shirt\"\n",
    "        shoes = \"Moccasins\"\n",
    "    elif degrees > 18 and degrees <= 24:\n",
    "        outfit = \"T-Shirt\"\n",
    "        shoes = \"Sandals\"\n",
    "    elif degrees >= 25:\n",
    "        outfit = \"Swim Suit\"\n",
    "        shoes = \"Barefoot\"\n",
    "\n",
    "elif dayTime == \"Evening\":\n",
    "    if degrees >= 10 and degrees <=18:\n",
    "        outfit = \"Shirt\"\n",
    "        shoes = \"Moccasins\"\n",
    "    elif degrees > 18 and degrees <= 24:\n",
    "        outfit = \"Shirt\"\n",
    "        shoes = \"Moccasins\"\n",
    "    elif degrees >= 25:\n",
    "        outfit = \"Shirt\"\n",
    "        shoes = \"Moccasins\"\n",
    "\n",
    "print(f\"It's {degrees} degrees, get your {outfit} and {shoes}.\")  "
   ]
  },
  {
   "attachments": {},
   "cell_type": "markdown",
   "metadata": {},
   "source": [
    "## 3. New House"
   ]
  },
  {
   "cell_type": "code",
   "execution_count": 11,
   "metadata": {},
   "outputs": [
    {
     "name": "stdout",
     "output_type": "stream",
     "text": [
      "Hey, you have a great garden with 112 Dahlias and 98.24 USD left.\n"
     ]
    }
   ],
   "source": [
    "flowerType = input().title()\n",
    "flowerNum = int(input())\n",
    "budget = int(input())\n",
    "\n",
    "rosesPrice = 5\n",
    "dahliasPrice = 3.80\n",
    "tulipsPrice = 2.80\n",
    "narciccusPrice = 3\n",
    "gladiolusPrice = 2.50\n",
    "\n",
    "totalPrice = 0\n",
    "#change =  budget - totalPrice\n",
    "\n",
    "if flowerType == \"Roses\":\n",
    "    if flowerNum > 80:\n",
    "        totalPrice = (flowerNum * rosesPrice) - ((flowerNum * rosesPrice) * (10/100))\n",
    "    else:\n",
    "        totalPrice = (flowerNum * rosesPrice)\n",
    "\n",
    "\n",
    "elif flowerType == \"Dahlias\":\n",
    "    if flowerNum > 90:\n",
    "        totalPrice = (flowerNum * dahliasPrice) - ((flowerNum * dahliasPrice) * (15/100))\n",
    "    else:\n",
    "        totalPrice = (flowerNum * dahliasPrice)  \n",
    "\n",
    "elif flowerType == \"Tulips\":\n",
    "    if flowerNum > 80:\n",
    "        totalPrice = (flowerNum * tulipsPrice) - ((flowerNum * tulipsPrice) * (15/100))\n",
    "    else:\n",
    "        totalPrice = (flowerNum * tulipsPrice)  \n",
    "\n",
    "elif flowerType == \"Narcissus\":\n",
    "    if flowerNum < 120:\n",
    "        totalPrice = (flowerNum * narciccusPrice) + ((flowerNum * narciccusPrice) * (15/100))\n",
    "    else:\n",
    "        totalPrice = (flowerNum * narciccusPrice)\n",
    "\n",
    "elif flowerType == \"Gladiolus\":\n",
    "    if flowerNum < 80:\n",
    "        totalPrice = (flowerNum * gladiolusPrice) + ((flowerNum * gladiolusPrice) * (20/100))\n",
    "    else:\n",
    "        totalPrice = (flowerNum * gladiolusPrice)      \n",
    "\n",
    "change =  budget - totalPrice\n",
    "if change >= 0:\n",
    "    print(f\"Hey, you have a great garden with {flowerNum} {flowerType} and {change:.2f} USD left.\")\n",
    "else:\n",
    "    print(f\"Not enough money, you need {(change*-1):.2f} USD more.\")"
   ]
  }
 ],
 "metadata": {
  "kernelspec": {
   "display_name": "base",
   "language": "python",
   "name": "python3"
  },
  "language_info": {
   "codemirror_mode": {
    "name": "ipython",
    "version": 3
   },
   "file_extension": ".py",
   "mimetype": "text/x-python",
   "name": "python",
   "nbconvert_exporter": "python",
   "pygments_lexer": "ipython3",
   "version": "3.8.5"
  },
  "orig_nbformat": 4
 },
 "nbformat": 4,
 "nbformat_minor": 2
}
