{
 "cells": [
  {
   "attachments": {},
   "cell_type": "markdown",
   "metadata": {},
   "source": [
    "# Latian Soal Minggu 2 Hari 1"
   ]
  },
  {
   "attachments": {},
   "cell_type": "markdown",
   "metadata": {},
   "source": [
    "### 1. Excellent Result"
   ]
  },
  {
   "cell_type": "code",
   "execution_count": 1,
   "metadata": {},
   "outputs": [
    {
     "name": "stdout",
     "output_type": "stream",
     "text": [
      "Excellent!\n"
     ]
    }
   ],
   "source": [
    "grade = float(input())\n",
    "\n",
    "if grade >= 5.50:\n",
    "\tprint(\"Excellent!\")"
   ]
  },
  {
   "attachments": {},
   "cell_type": "markdown",
   "metadata": {},
   "source": [
    "### 2. Greater Number"
   ]
  },
  {
   "cell_type": "code",
   "execution_count": 5,
   "metadata": {},
   "outputs": [
    {
     "name": "stdout",
     "output_type": "stream",
     "text": [
      "5\n"
     ]
    }
   ],
   "source": [
    "firstNumber = int(input())\n",
    "secondNumber = int(input())\n",
    "  \n",
    "if firstNumber > secondNumber:\n",
    "\tprint(firstNumber)\n",
    "else:\n",
    "\tprint(secondNumber)"
   ]
  },
  {
   "attachments": {},
   "cell_type": "markdown",
   "metadata": {},
   "source": [
    "### 3. Even or Odd"
   ]
  },
  {
   "cell_type": "code",
   "execution_count": 7,
   "metadata": {},
   "outputs": [
    {
     "name": "stdout",
     "output_type": "stream",
     "text": [
      "odd\n"
     ]
    }
   ],
   "source": [
    "nomor = int(input())\n",
    "if nomor % 2 == 0:\n",
    "\tprint(\"even\")\n",
    "else:\n",
    "\tprint(\"odd\")"
   ]
  },
  {
   "attachments": {},
   "cell_type": "markdown",
   "metadata": {},
   "source": [
    "### 4. Password Guess"
   ]
  },
  {
   "cell_type": "code",
   "execution_count": 8,
   "metadata": {},
   "outputs": [
    {
     "name": "stdout",
     "output_type": "stream",
     "text": [
      "Welcome\n"
     ]
    }
   ],
   "source": [
    "passwordInput = input()\n",
    "passwordCheck = \"s3cr3t!P@ssw0rd\"\n",
    "\n",
    "if passwordInput == passwordCheck :\n",
    "\tprint(\"Welcome\")\n",
    "else:\n",
    "\tprint(\"Wrong password!\")"
   ]
  },
  {
   "attachments": {},
   "cell_type": "markdown",
   "metadata": {},
   "source": [
    "### 5. Numbers from 100 to 200"
   ]
  },
  {
   "cell_type": "code",
   "execution_count": 11,
   "metadata": {},
   "outputs": [
    {
     "name": "stdout",
     "output_type": "stream",
     "text": [
      "Greater than 200\n"
     ]
    }
   ],
   "source": [
    "number = int(input())\n",
    "\n",
    "if number < 100:\n",
    "    print(\"Less than 100\")\n",
    "elif number <= 200:\n",
    "    print(\"Between 100 and 200\")\n",
    "else:\n",
    "    print(\"Greater than 200\")"
   ]
  },
  {
   "attachments": {},
   "cell_type": "markdown",
   "metadata": {},
   "source": [
    "### 6. Speed Info"
   ]
  },
  {
   "cell_type": "code",
   "execution_count": 16,
   "metadata": {},
   "outputs": [
    {
     "name": "stdout",
     "output_type": "stream",
     "text": [
      "extremly fast\n"
     ]
    }
   ],
   "source": [
    "speed = float(input())\n",
    "\n",
    "if speed <= 10:\n",
    "    print(\"slow\")\n",
    "elif speed > 10 and speed <= 50:\n",
    "    print(\"average\")\n",
    "elif speed > 50 and speed <= 150:\n",
    "    print(\"fast\")\n",
    "elif speed > 150 and speed <= 1000:\n",
    "    print(\"ultra fast\")\n",
    "else:\n",
    "    print(\"extremely fast\")"
   ]
  },
  {
   "attachments": {},
   "cell_type": "markdown",
   "metadata": {},
   "source": [
    "### 7. Area of Figures"
   ]
  },
  {
   "cell_type": "code",
   "execution_count": 21,
   "metadata": {},
   "outputs": [
    {
     "name": "stdout",
     "output_type": "stream",
     "text": [
      "45.000\n"
     ]
    }
   ],
   "source": [
    "from math import pi\n",
    "geometry = input()\n",
    "\n",
    "if geometry == \"square\":\n",
    "    length = float(input())\n",
    "    area = length * length\n",
    "\n",
    "elif geometry == \"rectangle\":\n",
    "    length = float(input())\n",
    "    width = float(input())\n",
    "    area = length * width\n",
    "\n",
    "elif geometry == \"circle\":\n",
    "    r = float(input())\n",
    "    area = pi * (r**2)\n",
    "\n",
    "elif geometry == \"triangle\":\n",
    "    side = float(input())\n",
    "    height = float(input())\n",
    "    area = (side * height) / 2\n",
    "\n",
    "area = format(area, '.3f')\n",
    "print(area)"
   ]
  }
 ],
 "metadata": {
  "kernelspec": {
   "display_name": "base",
   "language": "python",
   "name": "python3"
  },
  "language_info": {
   "codemirror_mode": {
    "name": "ipython",
    "version": 3
   },
   "file_extension": ".py",
   "mimetype": "text/x-python",
   "name": "python",
   "nbconvert_exporter": "python",
   "pygments_lexer": "ipython3",
   "version": "3.8.5"
  },
  "orig_nbformat": 4,
  "vscode": {
   "interpreter": {
    "hash": "c42d99d755d00efaf066b964ceed011a4027ae5af520c8ef8190b9acee3a6094"
   }
  }
 },
 "nbformat": 4,
 "nbformat_minor": 2
}
